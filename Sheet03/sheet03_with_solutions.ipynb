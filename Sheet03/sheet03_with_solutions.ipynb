{
 "cells": [
  {
   "cell_type": "markdown",
   "metadata": {
    "nbgrader": {
     "grade": false,
     "grade_id": "h00",
     "locked": true,
     "schema_version": 3,
     "solution": false
    }
   },
   "source": [
    "Osnabrück University - Computer Vision (Winter Term 2022/23) - Prof. Dr.-Ing. G. Heidemann, Ulf Krumnack"
   ]
  },
  {
   "cell_type": "markdown",
   "metadata": {
    "nbgrader": {
     "grade": false,
     "grade_id": "h02",
     "locked": true,
     "schema_version": 3,
     "solution": false
    }
   },
   "source": [
    "# Exercise Sheet 03: Morphological Operations¶"
   ]
  },
  {
   "cell_type": "markdown",
   "metadata": {
    "nbgrader": {
     "grade": false,
     "grade_id": "h03",
     "locked": true,
     "schema_version": 3,
     "solution": false
    }
   },
   "source": [
    "## Introduction\n",
    "\n",
    "This week's sheet should be solved and handed in before the end of **Sunday, November 27, 2022**. If you need help (and Google and other resources were not enough) use the StudIP forum. Please upload your results to your group's Stud.IP folder."
   ]
  },
  {
   "cell_type": "markdown",
   "metadata": {
    "nbgrader": {
     "grade": false,
     "grade_id": "math-complex",
     "locked": true,
     "schema_version": 3,
     "solution": false
    }
   },
   "source": [
    "## Assignment 0: Math recap (complex numbers) [0 Points]\n",
    "\n",
    "This exercise is supposed to be very easy, does not give any points, and is voluntary. There will be a similar exercise on every sheet. It is intended to revise some basic mathematical notions that are assumed throughout this class and to allow you to check if you are comfortable with them. Usually you should have no problem to answer these questions offhand, but if you feel unsure, this is a good time to look them up again. You are always welcome to discuss questions with the tutors or in the practice session. Also, if you have a (math) topic you would like to recap, please let us know."
   ]
  },
  {
   "cell_type": "markdown",
   "metadata": {
    "nbgrader": {
     "grade": false,
     "grade_id": "math-complex-q1",
     "locked": true,
     "schema_version": 3,
     "solution": false
    }
   },
   "source": [
    "**a)** What is a *complex number*, what is the *complex plane*, how are complex numbers usually denoted?"
   ]
  },
  {
   "cell_type": "markdown",
   "metadata": {
    "nbgrader": {
     "grade": true,
     "grade_id": "math-complex-a1",
     "locked": false,
     "points": 0,
     "schema_version": 3,
     "solution": true
    },
    "solution": "shown"
   },
   "source": [
    "The complex numbers, usually denoted by $\\mathbb{C}$, are the algebraic closure of the real numbers $\\mathbb{R}$, meaning that every non-constant polynomial has some root in $\\mathbb{C}$. This is realized by adding \"artificial\" numbers to provide the necessary roots missing in $\\mathbb{R}$, e.g. a new number $i$ with $i^2=-1$, as a root for the polynomial $X^2+1$. In fact, all complex numbers can be written as $a+b\\cdot i$ with some $a,b\\in\\mathbb{R}$.\n",
    "\n",
    "The complex plane is a geometric embedding of complex numbers into the two-dimensional Euclidean plane, mapping the number $a+b\\cdot i$ on the point $(a,b)$. It was a major breakthrough towards the acceptance of complex numbers, as this embedding allows to give geometric interpretations to arithmetic operations like sum and product."
   ]
  },
  {
   "cell_type": "markdown",
   "metadata": {
    "nbgrader": {
     "grade": false,
     "grade_id": "math-complex-q2",
     "locked": true,
     "schema_version": 3,
     "solution": false
    }
   },
   "source": [
    "**b)** What is the *real* and the *imaginary* part of a complex number? What is the *absolute value* of a complex number? What is the *complex conjugate*?"
   ]
  },
  {
   "cell_type": "markdown",
   "metadata": {
    "nbgrader": {
     "grade": true,
     "grade_id": "math-complex-a2",
     "locked": false,
     "points": 0,
     "schema_version": 3,
     "solution": true
    },
    "solution": "shown"
   },
   "source": [
    "Given a complex number $c=a+b\\cdot i$, the real number $a = \\Re c$ is called the real part and $b=\\Im c$ is called the imaginary part of $c$. In fact, the real numbers can be seen as the subset of real numbers whose imaginary part is $0$.\n",
    "\n",
    "The absolute value of $c$ is just the Euclidean norm of $c$ in the complex plane, i.e., its distance from the origin: $|c| = \\sqrt{(\\Re c)^2 + (\\Im c)^2}$\n",
    "\n",
    "The complex conjugate of a complex number is obtained by changing the sign of its imaginary part: $\\bar{c} = \\Re c - \\Im c$. Hence the conjugate of a real number is just that number."
   ]
  },
  {
   "cell_type": "markdown",
   "metadata": {
    "nbgrader": {
     "grade": false,
     "grade_id": "math-complex-q3",
     "locked": true,
     "schema_version": 3,
     "solution": false
    }
   },
   "source": [
    "**c)** What are polar coordinates? What are their advantages? Can you convert between cartesian and polar coordinates? Can you write down $i=\\sqrt{-1}$ in polar coordinates? What about $\\sqrt{i}$?"
   ]
  },
  {
   "cell_type": "markdown",
   "metadata": {
    "nbgrader": {
     "grade": true,
     "grade_id": "math-complex-a3",
     "locked": false,
     "points": 0,
     "schema_version": 3,
     "solution": true
    },
    "solution": "shown"
   },
   "source": [
    "Polar coordinates represent the position in a plane as a pair $(r, \\phi)$, where $r$ denotes the distance from the center and $\\phi$ the angle. Polar coordinates for complex numbers have the advantage, that multiplication (and exponents) get a very simple gemetrical meaning. The product of two numbers (in polar coordinates) is formed as\n",
    "\n",
    "$$(r_1,\\phi_1)\\cdot(r_2,\\phi_2) = (r_1r_2,\\phi_1+\\phi_2)$$\n",
    "\n",
    "that is, distances are multiplied while angles are sumed up. This leads to the following simple rule for exponents (which even holds for fractional $n$):\n",
    "\n",
    "$$(r,\\phi)^n = (r^n,n\\cdot \\phi)$$\n",
    "\n",
    "Hence we get the following polar coordinates for $i$ (note that the polar coordinates for $-1$ are $(1,\\pi))$:\n",
    "\n",
    "$$i = \\sqrt{-1} = (1,\\pi)^{\\tfrac12} = (1,\\tfrac12\\pi)$$\n",
    "\n",
    "and further\n",
    "\n",
    "$$\\sqrt{i} = (1,\\tfrac12\\pi)^{\\tfrac12} = (1,\\tfrac14\\pi)$$\n",
    "\n",
    "From the polar coordinates we can obtain cartesian coordinates as\n",
    "\n",
    "$$\\Re c= r\\cdot\\cos(\\phi)\\qquad \\text{and}\\qquad \\Im c=r\\cdot\\sin(\\phi)$$\n",
    "\n",
    "So we get:\n",
    "$$\\sqrt{i} = \\cos(\\frac14\\pi)+i\\cdot\\sin(\\frac14\\pi) = \\frac{\\sqrt{2}}{2}(1+i)$$"
   ]
  },
  {
   "cell_type": "markdown",
   "metadata": {
    "nbgrader": {
     "grade": false,
     "grade_id": "math-complex-q4",
     "locked": true,
     "schema_version": 3,
     "solution": false
    }
   },
   "source": [
    "**d)** Python, and also numpy, support calculations with complex numbers. Consult the documentation to find out details. Notice that $i$ is substituted by $j$ in Python."
   ]
  },
  {
   "cell_type": "code",
   "execution_count": null,
   "metadata": {
    "nbgrader": {
     "grade": true,
     "grade_id": "math-complex-a4",
     "locked": false,
     "points": 0,
     "schema_version": 3,
     "solution": true
    },
    "solution": "hidden"
   },
   "outputs": [],
   "source": [
    "a = 3 + 4j\n",
    "b = complex(3, 4)\n",
    "print(\"a = {}, type(a) = {}\".format(a, type(a)))\n",
    "print(\"b = {}, type(b) = {}\".format(b, type(b)))\n",
    "print(\"real(a) = {}, imag(a) = {}\".format(a.real,a.imag))\n",
    "print(\"abs(a) = {}\".format(abs(a)))\n",
    "print(\"conjugate(a) = {}\".format(a.conjugate()))\n",
    "print(\"i*i = {}\".format(1j**2))\n",
    "\n",
    "# normal \"math\" functions are non complex:\n",
    "print(\"-- the math module ---------------------------\")\n",
    "import math\n",
    "#print(math.sqrt(-1)) # ValueError: math domain error\n",
    "#print(math.sin(3+4j)) # TypeError: can't convert complex to float\n",
    "#print(math.exp(2*math.pi*1j)) # TypeError: can't convert complex to float\n",
    "\n",
    "# but there is a \"cmath\" module\n",
    "print(\"-- the cmath module --------------------------\")\n",
    "import cmath\n",
    "print(cmath.sqrt(-1))\n",
    "print(cmath.sin(3+4j))\n",
    "print(cmath.exp(2*math.pi*1j))\n",
    "\n",
    "# numpy has its own types for complex numbers (np.complex64 and np.complex128)\n",
    "print(\"-- numpy -------------------------------------\")\n",
    "import numpy as np\n",
    "a = np.complex64(3+4j)\n",
    "print(\"a = {}, type(a) = {}\".format(a, type(a)))\n",
    "print(\"a*a = {}\".format(a**2))\n",
    "print(\"real(a) = {}, imag(a) = {}\".format(a.real,a.imag))\n",
    "print(\"abs(a) = {}\".format(abs(a)))\n",
    "print(\"conjugate(a) = {}\".format(a.conjugate()))\n",
    "\n",
    "# numpy supports computation with complex numbers (provided the input arguments are complex)\n",
    "print(np.sqrt(-1)) # Warning: invalid value encountered in sqrt\n",
    "print(np.sqrt(-1+0j))\n",
    "print(np.sin(3+4j))\n",
    "print(np.exp(2*np.pi*1j))"
   ]
  },
  {
   "cell_type": "markdown",
   "metadata": {
    "nbgrader": {
     "grade": false,
     "grade_id": "morph-erode",
     "locked": true,
     "schema_version": 3,
     "solution": false
    }
   },
   "source": [
    "## Assignment 1: Properties of morphological operators (5 points)\n",
    "\n",
    "This exercise will elaborate on the basic morphological operators of *erosion* and *dilation* (cf. CV-05 slides 4-14)."
   ]
  },
  {
   "cell_type": "markdown",
   "metadata": {
    "nbgrader": {
     "grade": false,
     "grade_id": "morph-erode-q2",
     "locked": true,
     "schema_version": 3,
     "solution": false
    }
   },
   "source": [
    "### a) Duality\n",
    "\n",
    "Proof that *erosion* and *dilation* are *dual* operators, i.e.\n",
    "\n",
    "$$ g^{\\ast}\\oplus S = (g\\ominus S)^{\\ast}\\qquad\\text{and}\\qquad\n",
    "g^{\\ast}\\ominus S = (g\\oplus S)^{\\ast}$$\n",
    "\n",
    "here $g^{\\ast}$ denotes the inverted binary image, i.e. $g^{\\ast}(x,y) = 1 - g(x,y) = \\neg g(x,y)$, i.e. 1-pixel become 0 and 0-pixel become 1."
   ]
  },
  {
   "cell_type": "markdown",
   "metadata": {
    "nbgrader": {
     "grade": true,
     "grade_id": "morph-erode-a2",
     "locked": false,
     "points": 1,
     "schema_version": 3,
     "solution": true
    },
    "solution": true
   },
   "source": [
    "Intuitively, this can be expressed by saying that extending the fringe of an object is \"eating\" from the fringe of its complement. \n",
    "\n",
    "Formally, one can write\n",
    "\\begin{align}\n",
    "(g^{\\ast}\\oplus S)(x,y)\n",
    "& = \\bigvee_{i\\in[-m,m]} \\bigvee_{i\\in[-n,n]} S(i+m, j+n)\\wedge g^{\\ast}(x+i,y+j) \\\\\n",
    "& = \\bigvee_{i\\in[-m,m]} \\bigvee_{i\\in[-n,n]} \\neg\\neg S(i+m, j+n)\\wedge \\neg g(x+i,y+j) \\\\\n",
    "& = \\bigvee_{i\\in[-m,m]} \\bigvee_{i\\in[-n,n]} \\neg(\\neg S(i+m, j+n)\\vee g(x+i,y+j)) \\\\\n",
    "& = \\bigvee_{i\\in[-m,m]} \\bigvee_{i\\in[-n,n]} \\neg(S(i+m, j+n)\\to g(x+i,y+j)) \\\\\n",
    "& = \\neg\\bigwedge_{i\\in[-m,m]} \\bigwedge_{i\\in[-n,n]} (S(i+m, j+n)\\to g(x+i,y+j)) \\\\\n",
    "&= \\neg(g\\ominus S)(x,y) \\\\\n",
    "&= (g\\ominus S)^{\\ast}(x,y)\n",
    "\\end{align}\n",
    "\n",
    "The other case is analogous.\n",
    "\n",
    "\n",
    "Alternative Notation: one can shorten the proof a bit by introducing a simplified notation: letting $(i,j)\\in S$ mean to iterate over all $(i,j)$ for which $S(i+m, j+n)$ is true (a $1$-element), we can rewrite the definition of dilation from the slides as follows:\n",
    "$$g'(x,y) = \\bigvee_{i\\in[-m,m]} \\bigvee_{i\\in[-n,n]}S(i+m, i+n)\\wedge g(x+i, y+j)\n",
    "= \\bigvee_{(i,j)\\in S} g(x+i, y+j)$$\n",
    "and erosion as\n",
    "$$g'(x,y) = \\bigwedge_{i\\in[-m,m]} \\bigwedge_{i\\in[-n,n]}(S(i+m, i+n)\\to g(x+i, y+j))\n",
    "= \\bigwedge_{(i,j)\\in S} g(x+i, y+j)$$\n",
    "(using the convention that $\\bigvee_\\emptyset=0$ and $\\bigwedge_\\emptyset=1$). Using that notation, we can simply derive\n",
    "\\begin{align}\n",
    "(g^{\\ast}\\oplus S)(x,y)\n",
    "& = \\bigvee_{(i,j)\\in S} g^{\\ast}(x+i,y+j) \\\\\n",
    "& = \\bigvee_{(i,j)\\in S} \\neg g(x+i,y+j) \\\\\n",
    "& = \\neg\\bigwedge_{(i,j)\\in S} g(x+i,y+j) \\\\\n",
    "&= \\neg(g\\ominus S)(x,y) \\\\\n",
    "&= (g\\ominus S)^{\\ast}(x,y)\n",
    "\\end{align}\n"
   ]
  },
  {
   "cell_type": "markdown",
   "metadata": {
    "nbgrader": {
     "grade": false,
     "grade_id": "morph-erode-q3",
     "locked": true,
     "schema_version": 3,
     "solution": false
    }
   },
   "source": [
    "### b) Superposition\n",
    "\n",
    "As *erosion* and *dilation* have been introduced for binary images, the notion of *linearity* is not really appropriate here. However, some weaker version, called *superposition* can be defined: instead of forming a linear combination, one takes the logical disjunction:\n",
    "\n",
    "$$(g_1\\lor g_2)(x,y) := g_1(x,y)\\lor g_2(x,y)$$\n",
    "\n",
    "Check for both operations if *erosion* and *dilation* are \"compatible\" with superposition, i.e. if first *eroding* (or *dilating*) two images and superposing the result is the same as first superposing the images and then *eroding* (or *dilating*) the result."
   ]
  },
  {
   "cell_type": "markdown",
   "metadata": {
    "nbgrader": {
     "grade": true,
     "grade_id": "morph-erode-a3",
     "locked": false,
     "points": 2,
     "schema_version": 3,
     "solution": true
    },
    "solution": true
   },
   "source": [
    "The superposition principle holds for *dilation*, as we are just dealing with disjunctions: \n",
    "\n",
    "\\begin{align*}\n",
    "    ((g_1\\lor g_2)\\oplus S)(x,y)\n",
    "    & = \\bigvee_{(i,j)\\in S} (g_1\\lor g_2)(x+i,y+j) \\\\\n",
    "    & = \\bigvee_{(i,j)\\in S} \\left(g_1(x+i,y+j) \\lor g_2(x+i,y+j)\\right) \\\\\n",
    "    & = \\left(\\bigvee_{(i,j)\\in S} g_1(x+i,y+j)\\right) \\lor \\left(\\bigvee_{(i,j)\\in S}g_2(x+i,y+j)\\right) \\\\\n",
    "    & = (g_1\\oplus S)(x,y)\\lor (g_2\\oplus S)(x,y)\n",
    "\\end{align*}\n",
    "\n",
    "\n",
    "For erosion, the superposition principle does not hold in general: Example (with zero padding): \n",
    "\n",
    "$$\n",
    "g_1 = \\left(\n",
    "\\begin{array}{lll}\n",
    "1 & 0 & 1 \\end{array}\\right)\\qquad \n",
    "g_2 = \\left(\n",
    "\\begin{array}{lll}\n",
    "0 & 1 & 0 \\end{array}\\right)\\qquad \n",
    "S = \\left( \\begin{array}{lll} 1 & 1 & 1 \\end{array} \\right)\n",
    "$$\n",
    "\n",
    "$$\n",
    "\\begin{align*}\n",
    "    (g_1\\lor g_2)\\ominus S)(x,y) \n",
    "    & = \\left( \\left( \\begin{array}{lll} 1 & 0 & 1 \\end{array} \\right) \\lor\n",
    "        \\left( \\begin{array}{lll} 0 & 1 & 0 \\end{array} \\right) \\right) \\ominus\n",
    "        \\left( \\begin{array}{lll} 1 & 1 & 1 \\end{array} \\right) \\\\\n",
    "    & = \\left( \\begin{array}{lll} 1 & 1 & 1 \\end{array} \\right) \\ominus\n",
    "        \\left( \\begin{array}{lll} 1 & 1 & 1 \\end{array} \\right) \\\\\n",
    "    & = \\left( \\begin{array}{lll} 0 & 1 & 0 \\end{array} \\right) \\\\\n",
    "    (g_1\\ominus S)(x,y)  \\lor (g_2\\ominus S)(x,y) \n",
    "    & = \\left( \\left( \\begin{array}{lll} 1 & 0 & 1 \\end{array} \\right) \\ominus\n",
    "        \\left( \\begin{array}{lll} 1 & 1 & 1 \\end{array} \\right) \\right) \\lor\n",
    "        \\left( \\left( \\begin{array}{lll} 0 & 1 & 0 \\end{array} \\right) \\ominus\n",
    "        \\left( \\begin{array}{lll} 1 & 1 & 1 \\end{array} \\right) \\right) \\\\\n",
    "    & = \\left( \\begin{array}{lll} 0 & 0 & 0 \\end{array} \\right) \\lor\n",
    "        \\left( \\begin{array}{lll} 0 & 0 & 0 \\end{array} \\right) \\\\\n",
    "    & = \\left( \\begin{array}{lll} 0 & 0 & 0 \\end{array} \\right)\n",
    "\\end{align*}\n",
    "$$\n",
    "\n",
    "\n",
    "But one can show a weaker form, namely\n",
    "\n",
    "$$(g_1\\lor g_2)\\ominus S \\to (g_1\\ominus S)\\lor (g_2\\ominus S)$$\n",
    "\n",
    "holds. That is, the erosion of the combination of two images is in general larger than the combination of two eroded images. The following cell shows an example of the effect of superposition on erosion."
   ]
  },
  {
   "cell_type": "code",
   "execution_count": null,
   "metadata": {
    "nbgrader": {
     "grade": true,
     "grade_id": "cell-ce394efa205416156",
     "locked": false,
     "points": 0,
     "schema_version": 3,
     "solution": true
    }
   },
   "outputs": [],
   "source": [
    "from skimage import morphology, draw\n",
    "%matplotlib inline\n",
    "import numpy as np\n",
    "import matplotlib.pyplot as plt\n",
    "plt.rcParams['image.cmap'] = 'gray'\n",
    "\n",
    "circle_left_img = np.zeros(shape=(300, 300), dtype=np.uint8)\n",
    "circle_left_img[draw.disk((120, 120), 50)] = 1\n",
    "\n",
    "circle_right_img = np.zeros_like(circle_left_img)\n",
    "circle_right_img[draw.disk((180, 180), 50)] = 1\n",
    "\n",
    "\n",
    "kernel = morphology.square(20)\n",
    "plt.figure(figsize=(12, 8))\n",
    "plt.subplot(2, 3, 1)\n",
    "plt.imshow(circle_left_img)\n",
    "plt.axis('off')\n",
    "plt.title(r'$g_1$')\n",
    "plt.subplot(2, 3, 2)\n",
    "plt.imshow(circle_right_img)\n",
    "plt.axis('off')\n",
    "plt.title(r'$g_2$')\n",
    "plt.subplot(2, 3, 3)\n",
    "plt.imshow(circle_left_img | circle_right_img)\n",
    "plt.axis('off')\n",
    "plt.title(r'$g_1 \\vee g_2$')\n",
    "plt.subplot(2, 3, 4)\n",
    "plt.imshow(morphology.binary_erosion(circle_left_img | circle_right_img, footprint=kernel))\n",
    "plt.axis('off')\n",
    "plt.title('Erosion after superposition')\n",
    "plt.subplot(2, 3, 5)\n",
    "plt.imshow(morphology.binary_erosion(circle_left_img, footprint=kernel) \n",
    "           | morphology.binary_erosion(circle_right_img, footprint=kernel))\n",
    "plt.axis('off')\n",
    "plt.title('Erosion before superposition')\n",
    "plt.show()"
   ]
  },
  {
   "cell_type": "markdown",
   "metadata": {
    "nbgrader": {
     "grade": false,
     "grade_id": "morph-erode-q4",
     "locked": true,
     "schema_version": 3,
     "solution": false
    }
   },
   "source": [
    "### c) Chaining\n",
    "\n",
    "Show that *dilation* and *erosion* have the following properties: given two structering elements $S_1$ and $S_2$, it holds\n",
    "\n",
    "\\begin{align}\n",
    "  (g\\oplus S_1)\\oplus S_2 & & = & g\\oplus (S_1\\oplus S_2) && = (g\\oplus S_2)\\oplus S_1 \\\\\n",
    "  (g\\ominus S_1)\\ominus S_2 & & = & g\\ominus (S_1\\ominus S_2) && = (g\\ominus S_2)\\ominus S_1 \\\\  \n",
    "\\end{align}\n",
    "\n",
    "What are the practical consequences?"
   ]
  },
  {
   "cell_type": "markdown",
   "metadata": {
    "nbgrader": {
     "grade": true,
     "grade_id": "morph-erode-a4",
     "locked": false,
     "points": 2,
     "schema_version": 3,
     "solution": true
    },
    "solution": true
   },
   "source": [
    "Proof: First, by straight forward calculation we get (again using the simplified notation from part a):\n",
    "\\begin{align*}\n",
    "  ((g\\oplus S_1)\\oplus S_2)(x,y)\n",
    "  &= \\bigvee_{(k,l)\\in S_2}(g\\oplus S_1)(x+k,y+l) \\\\\n",
    "  &= \\bigvee_{(k,l)\\in S_2}\\bigvee_{(i,j)\\in S_1}g(x+k+i,y+l+j) \\\\\n",
    "  &= \\bigvee_{(i,j)\\in S_1}\\bigvee_{(k,l)\\in S_2}g(x+k+i,y+l+j) \\\\\n",
    "  &= \\bigvee_{(i,j)\\in S_1}(g\\oplus S_2)(x+i,y+j) \\\\\n",
    "  &= ((g\\oplus S_2)\\oplus S_1)(x,y)\n",
    "\\end{align*}  \n",
    "so we see that the left and right side of the first row agree. To see that also the middle term is equivalent, note that $(k+i,l+j)\\in S_1\\oplus S_2$ is equivalent to $(i,j)\\in S_1$ and $(k,l)\\in S_2$. The second row is analogous, replacing $\\bigvee$ by $\\bigwedge$.\n",
    "\n",
    "Practically this means, if one is going to erode or dilate an image with different structuring elements, \n",
    "1. the order of application does not matter\n",
    "2. it is usually more efficient to form a combined structural element by dilation and the apply this combined element to the image."
   ]
  },
  {
   "cell_type": "markdown",
   "metadata": {},
   "source": [
    "Remark: for the argument to work, we have to assume, that images and structuring elements are large enough and zero-padded. Otherwise it is possible to create counter examples like the following:"
   ]
  },
  {
   "cell_type": "code",
   "execution_count": null,
   "metadata": {},
   "outputs": [],
   "source": [
    "import numpy as np\n",
    "from scipy.ndimage import binary_dilation\n",
    "a =          np.array([[0,0,0,0,0],\n",
    "                      [0,0,0,0,0],\n",
    "                      [0,0,1,0,0],\n",
    "                      [0,0,0,0,0],\n",
    "                      [0,0,0,0,0]])\n",
    "b2 =          np.array([[0,0,0,0,0], #for this one the rule holds \n",
    "                      [0,1,1,1,0],\n",
    "                      [0,1,1,1,0],\n",
    "                      [0,1,1,1,0],\n",
    "                      [0,0,0,0,0]])\n",
    "b =          np.array([[1,1,1], #for this one it dosen´t\n",
    "                      [1,1,1],\n",
    "                      [1,1,1],])\n",
    "c = b\n",
    "c2 = b2\n",
    "d = np.zeros(c.shape, int)\n",
    "out1 = np.zeros(a.shape, int)\n",
    "out2 = np.zeros(a.shape, int)\n",
    "out1 = binary_dilation(binary_dilation(a,b),c)\n",
    "out2 = binary_dilation(a,binary_dilation(b,c))\n",
    "\n",
    "print(out1)\n",
    "print(out2)"
   ]
  },
  {
   "cell_type": "markdown",
   "metadata": {
    "nbgrader": {
     "grade": false,
     "grade_id": "morph-morphing",
     "locked": true,
     "schema_version": 3,
     "solution": false
    }
   },
   "source": [
    "## Assignment 2: Application (5 points)\n"
   ]
  },
  {
   "cell_type": "markdown",
   "metadata": {
    "nbgrader": {
     "grade": false,
     "grade_id": "morph-morphing-q1",
     "locked": true,
     "schema_version": 3,
     "solution": false
    }
   },
   "source": [
    "### a) Boundary extraction\n",
    "\n",
    "Extract the boundary of a shape using opening or closing. You may use `binary_dilation` or `binary_erosion` from `scipy.ndimage`. Can you achieve a thicker boundary?"
   ]
  },
  {
   "cell_type": "code",
   "execution_count": null,
   "metadata": {
    "nbgrader": {
     "grade": true,
     "grade_id": "morph-morphing-a1",
     "locked": false,
     "points": 1,
     "schema_version": 3,
     "solution": true
    }
   },
   "outputs": [],
   "source": [
    "%matplotlib inline\n",
    "import numpy as np\n",
    "import matplotlib.pyplot as plt\n",
    "plt.rcParams['image.cmap'] = 'gray'\n",
    "from scipy.ndimage import binary_erosion\n",
    "from imageio.v2 import imread\n",
    "\n",
    "def my_boundary(img):\n",
    "    \"\"\"\n",
    "    Compute boundary of binary image.\n",
    "\n",
    "    Parameters\n",
    "    ----------\n",
    "    img : ndarray of bools\n",
    "        A binary image.\n",
    "        \n",
    "    Returns\n",
    "    -------\n",
    "    boundary : ndarray of bools\n",
    "        The boundary as a binary image.\n",
    "    \"\"\"\n",
    "    \n",
    "    boundary = np.zeros(img.shape, bool)\n",
    "    # BEGIN SOLUTION\n",
    "    boundary = img ^ binary_erosion(img, iterations=5)\n",
    "    # END SOLUTION\n",
    "    \n",
    "    return boundary\n",
    "    \n",
    "img = imread(\"images/engelstrompete.png\") > 0\n",
    "plt.figure(figsize=(10,10))\n",
    "plt.gray()\n",
    "plt.imshow(my_boundary(img))\n",
    "plt.show()"
   ]
  },
  {
   "cell_type": "markdown",
   "metadata": {
    "nbgrader": {
     "grade": false,
     "grade_id": "morph-morphing-q2",
     "locked": true,
     "schema_version": 3,
     "solution": false
    }
   },
   "source": [
    "### b)  Distance transform\n",
    "\n",
    "Implement distance transform according to the ideas of (CV-05 slides 34ff).  Discuss the effect of different structuring elements."
   ]
  },
  {
   "cell_type": "code",
   "execution_count": null,
   "metadata": {
    "nbgrader": {
     "grade": true,
     "grade_id": "morph-morphing-a2",
     "locked": false,
     "points": 2,
     "schema_version": 3,
     "solution": true
    }
   },
   "outputs": [],
   "source": [
    "%matplotlib inline\n",
    "import numpy as np\n",
    "import matplotlib.pyplot as plt\n",
    "from scipy.ndimage import generate_binary_structure, binary_erosion\n",
    "from imageio.v2 import imread\n",
    "\n",
    "def my_distance_transform(img):\n",
    "    \"\"\"Distance transform of binary image.\n",
    "\n",
    "    Args:\n",
    "    img (ndarray of bools): A binary image.\n",
    "        \n",
    "    Returns:\n",
    "    dt (ndarray of ints): The distance transform of the input image.\n",
    "    \"\"\"\n",
    "    \n",
    "    dt = np.zeros(img.shape,np.int32)\n",
    "    # BEGIN SOLUTION\n",
    "    while img.any():\n",
    "        dt += img\n",
    "        # generate_binary_structure(2, 1) -> N4 neighborhood -> city block distance\n",
    "        # generate_binary_structure(2, 2) -> N8 neighborhood -> chessboard distance\n",
    "        img = binary_erosion(img, generate_binary_structure(2, 2))\n",
    "    # END SOLUTION\n",
    "\n",
    "    return dt\n",
    "\n",
    "\n",
    "img = imread(\"images/engelstrompete.png\") > 0\n",
    "plt.figure(figsize=(10,10))\n",
    "plt.imshow(my_distance_transform(img) + 50 * img)\n",
    "plt.show()"
   ]
  },
  {
   "cell_type": "markdown",
   "metadata": {
    "nbgrader": {
     "grade": true,
     "grade_id": "cell-4f0056b6c961ef35",
     "locked": false,
     "points": 0,
     "schema_version": 3,
     "solution": true
    }
   },
   "source": [
    "One can use different structuring elements to realize a different metric:\n",
    "\n",
    "* $\\begin{pmatrix} 0 & 1 & 0 \\\\ 1 & 1 & 1 \\\\ 0 & 1 & 0 \\end{pmatrix}$ (the $N_4$-neighborhood) realizes the cityblock distance ($L_1$)\n",
    "* $\\begin{pmatrix} 1 & 1 & 1 \\\\ 1 & 1 & 1 \\\\ 1 & 1 & 1 \\end{pmatrix}$ (the $N_8$-neighborhood) realizes the chessboard distance ($L_\\infty$)\n",
    "\n"
   ]
  },
  {
   "cell_type": "markdown",
   "metadata": {
    "nbgrader": {
     "grade": false,
     "grade_id": "morph-morphing-q3",
     "locked": true,
     "schema_version": 3,
     "solution": false
    }
   },
   "source": [
    "### c) Morphing\n",
    "\n",
    "Write a function `my_morph` that implements morphing according to (CV-05 slide 41). You may use your function `my_distance_transform` from part b), or the function `distance_transform_edt` from `scipy.ndimage`."
   ]
  },
  {
   "cell_type": "code",
   "execution_count": null,
   "metadata": {
    "nbgrader": {
     "grade": true,
     "grade_id": "morph-morphing-a3",
     "locked": false,
     "points": 2,
     "schema_version": 3,
     "solution": true
    }
   },
   "outputs": [],
   "source": [
    "%matplotlib inline\n",
    "import numpy as np\n",
    "import matplotlib.pyplot as plt\n",
    "from scipy.ndimage import distance_transform_edt\n",
    "from imageio.v2 import imread\n",
    "\n",
    "\n",
    "def my_morph(A,B,ratio):\n",
    "    \"\"\"Morphing from binary image A to image B.\n",
    "\n",
    "    Args:\n",
    "        A (ndarray of bools): A binary image (start).\n",
    "        B (ndarray of bools): A binary image (target), same shape as A.\n",
    "        ratio (float from 0.0 to 1.0): The ratio of image A and image B.\n",
    "            0.0=only image A, 1.0=only image B.\n",
    "        \n",
    "    Returns:\n",
    "        morph (ndarray of bools): A binary intermediate image between A and B.\n",
    "        \n",
    "    \"\"\"\n",
    "\n",
    "    result = np.zeros(A.shape, bool)\n",
    "    # BEGIN SOLUTION\n",
    "    dA = distance_transform_edt(A) - distance_transform_edt(~A)\n",
    "    dB = distance_transform_edt(B) - distance_transform_edt(~B)\n",
    "    result = (1-ratio)*dA + ratio*dB > 0\n",
    "    # END SOLUTION\n",
    "    \n",
    "    return result\n",
    "\n",
    "img1 = imread(\"images/kreis.png\") > 0\n",
    "img2 = imread(\"images/engelstrompete.png\") > 0\n",
    "\n",
    "\n",
    "plt.figure(figsize=(10,10))\n",
    "plt.gray()\n",
    "for i, ratio in enumerate(np.linspace(0, 1, 6), 1):\n",
    "    plt.subplot(2, 3, i)\n",
    "    plt.imshow(my_morph(img1, img2, ratio))\n",
    "    plt.axis('off')\n",
    "plt.show()"
   ]
  },
  {
   "cell_type": "code",
   "execution_count": null,
   "metadata": {
    "nbgrader": {
     "grade": true,
     "grade_id": "morph-morphing-a3b",
     "locked": true,
     "points": 0,
     "schema_version": 3,
     "solution": false
    }
   },
   "outputs": [],
   "source": [
    "# If you want to see your morph as an animation, run this cell. \n",
    "# Close the output (press the blue \"Stop interaction\" button) once you are done!\n",
    "\n",
    "# Due to some matplotlib problem you may have to restart your kernel!\n",
    "%matplotlib notebook\n",
    "import matplotlib.animation as animation\n",
    "fig = plt.figure()\n",
    "\n",
    "ims = []\n",
    "for i, ratio in enumerate(np.linspace(0, 1, 24), 1):\n",
    "    plt.axis('off')\n",
    "    im = plt.imshow(my_morph(img1, img2, ratio), cmap='gray', animated=True)\n",
    "    ims.append([im])  \n",
    "    \n",
    "ani = animation.ArtistAnimation(fig, ims + list(reversed(ims)), interval=100, blit=True)\n",
    "\n",
    "fig.show()"
   ]
  },
  {
   "cell_type": "markdown",
   "metadata": {
    "nbgrader": {
     "grade": false,
     "grade_id": "morph-skeleton",
     "locked": true,
     "schema_version": 3,
     "solution": false
    }
   },
   "source": [
    "## Assignment 3: Implementation: Skeletonization (5 points)"
   ]
  },
  {
   "cell_type": "markdown",
   "metadata": {
    "nbgrader": {
     "grade": false,
     "grade_id": "morph-skeleton-q1",
     "locked": true,
     "schema_version": 3,
     "solution": false
    }
   },
   "source": [
    "### a) Skeletonization with hit-or-miss\n",
    "\n",
    "Explain in your own words, how the hit-or-miss operator can be used for skeletonization (cf CV-05 slide 49).  "
   ]
  },
  {
   "cell_type": "markdown",
   "metadata": {
    "nbgrader": {
     "grade": true,
     "grade_id": "morph-skeleton-a1",
     "locked": false,
     "points": 1,
     "schema_version": 3,
     "solution": true
    },
    "solution": true
   },
   "source": [
    "The hit-or-miss operator is used to detect small patterns in an image. To form the skeleton of an object in a binary image, one has to avoid to disconnect the \"bones\". The idea is to iteratively \"eat\" pixels from the boundary of the figure, but only in a way that will not break connectivity. The trick is to define a set of hit-or-miss operators that will detect boundary pixels that can be eaten without harm: they are all designed in a way, that they detect  a connected structures that stay connected even after removing the central pixel. Repeated application of these hit-and-miss operators will finally leave only the skeleton."
   ]
  },
  {
   "cell_type": "markdown",
   "metadata": {
    "nbgrader": {
     "grade": false,
     "grade_id": "morph-skeleton-q2",
     "locked": true,
     "schema_version": 3,
     "solution": false
    }
   },
   "source": [
    "### b) Implementation of skeletonization\n",
    "\n",
    "Now use this method to implement your own skeletonization function. It is ok to use\n",
    "`scipy.ndimage.morphology.binary_hit_or_miss` here (but of course *not* `skimage.morphology.skeletonize` or similar functions). Compare your result with (CV-05 slide 50). Note that computing the skeleton using this method may take some time ..."
   ]
  },
  {
   "cell_type": "code",
   "execution_count": null,
   "metadata": {
    "nbgrader": {
     "grade": true,
     "grade_id": "morph-skeleton-a2",
     "locked": false,
     "points": 4,
     "schema_version": 3,
     "solution": true
    }
   },
   "outputs": [],
   "source": [
    "%matplotlib inline\n",
    "import numpy as np\n",
    "import matplotlib.pyplot as plt\n",
    "from scipy.ndimage import binary_hit_or_miss, distance_transform_cdt, binary_dilation\n",
    "from imageio.v2 import imread\n",
    "\n",
    "def my_skeletonize(img):\n",
    "    \"\"\"\n",
    "    Compute the skeloton of a binary image using hit_or_miss operator.\n",
    "    \n",
    "    Parameters\n",
    "    ----------\n",
    "    img : ndarray of bools\n",
    "        Binary image to be skeletonized.\n",
    "    \n",
    "    Returns\n",
    "    -------\n",
    "    skeleton : ndarray of bools\n",
    "        The skeleton of the input image.\n",
    "    \"\"\"\n",
    "    # BEGIN SOLUTION\n",
    "    skeleton = np.zeros(img.shape, bool)\n",
    "    \n",
    "    sl_hit = np.asarray([[0,0,1],[0,1,1],[0,0,1]], bool)\n",
    "    sl_miss = np.asarray([[1,0,0],[1,0,0],[1,0,0]], bool)\n",
    "\n",
    "    sr_hit = np.asarray([[1,0,0],[1,1,0],[1,0,0]], bool)\n",
    "    sr_miss = np.asarray([[0,0,1],[0,0,1],[0,0,1]], bool)\n",
    "\n",
    "    so_hit = np.asarray([[0,0,0],[0,1,0],[1,1,1]], bool)\n",
    "    so_miss = np.asarray([[1,1,1],[0,0,0],[0,0,0]], bool)\n",
    "\n",
    "    su_hit = np.asarray([[1,1,1],[0,1,0],[0,0,0]], bool)\n",
    "    su_miss = np.asarray([[0,0,0],[0,0,0],[1,1,1]], bool)\n",
    "\n",
    "    slu_hit = np.asarray([[0,0,0],[0,1,1],[0,1,1]], bool)\n",
    "    slu_miss = np.asarray([[1,1,0],[1,0,0],[0,0,0]], bool)\n",
    "\n",
    "    slo_hit = np.asarray([[0,1,1],[0,1,1],[0,0,0]], bool)\n",
    "    slo_miss = np.asarray([[0,0,0],[1,0,0],[1,1,0]], bool)\n",
    "\n",
    "    sru_hit = np.asarray([[0,0,0],[1,1,0],[1,1,0]], bool)\n",
    "    sru_miss = np.asarray([[0,1,1],[0,0,1],[0,0,0]], bool)\n",
    "\n",
    "    sro_hit = np.asarray([[1,1,0],[1,1,0],[0,0,0]], bool)\n",
    "    sro_miss = np.asarray([[0,0,0],[0,0,1],[0,1,1]], bool)\n",
    "\n",
    "    while (skeleton != img).any():\n",
    "        skeleton = img\n",
    "        img = img ^ binary_hit_or_miss(img, sl_hit, sl_miss)\n",
    "        img = img ^ binary_hit_or_miss(img, sr_hit, sr_miss)\n",
    "        img = img ^ binary_hit_or_miss(img, so_hit, so_miss)\n",
    "        img = img ^ binary_hit_or_miss(img, su_hit, su_miss)\n",
    "\n",
    "        img = img ^ binary_hit_or_miss(img, slo_hit, slo_miss)\n",
    "        img = img ^ binary_hit_or_miss(img, slu_hit, slu_miss)\n",
    "        img = img ^ binary_hit_or_miss(img, sro_hit, sro_miss)\n",
    "        img = img ^ binary_hit_or_miss(img, sru_hit, sru_miss)\n",
    "    \n",
    "    return skeleton\n",
    "    # END SOLUTION\n",
    "\n",
    "\n",
    "img = imread(\"images/engelstrompete.png\") > 0\n",
    "skel = my_skeletonize(img)\n",
    "result = distance_transform_cdt(img, metric='taxicab') + (50 * img)\n",
    "result[binary_dilation(skel)] = 0\n",
    "plt.figure(figsize=(10,10))\n",
    "plt.gray()\n",
    "plt.imshow(result)\n",
    "plt.show()"
   ]
  },
  {
   "cell_type": "markdown",
   "metadata": {
    "nbgrader": {
     "grade": false,
     "grade_id": "cell-60d8cfa910b52231",
     "locked": true,
     "schema_version": 3,
     "solution": false
    }
   },
   "source": [
    "## Assignment 4: Custom Structuring Element (5 points)\n",
    "\n",
    "Landsat 7 is a satelite mission for acquisition of satellite imagery of Earth. Unfortunately the Scan Line Corrector failed, resulting in black stripes on the aquired images. More information: [https://www.usgs.gov/landsat-missions]\n"
   ]
  },
  {
   "cell_type": "markdown",
   "metadata": {
    "nbgrader": {
     "grade": false,
     "grade_id": "cell-ca1552e7bddf7b74",
     "locked": true,
     "schema_version": 3,
     "solution": false
    }
   },
   "source": [
    "### a) A first fix\n",
    "\n",
    "A rather crude fix is to apply a custom structuring element for dilation and erosion (see CV-05, 24ff). Complement the code below (in part (b)) in the following way:\n",
    "* Rotate the image such that the gaps are horizontal.\n",
    "* Dilate the rotated image with a vertical structuring element. I.e. take the maximum of an area of size $7 \\times1$ and assign it to the center pixel. Repeat for all pixels.\n",
    "* Erode the dilated image.\n",
    "* Rotate the result back.\n",
    "\n",
    "Remark: this exercise applies morphological operator to color images. This extends the idea of generalizing morphological operators to gray value images (CV-05, slide 51).  "
   ]
  },
  {
   "cell_type": "markdown",
   "metadata": {
    "nbgrader": {
     "grade": false,
     "grade_id": "cell-7fbbc56de3c77426",
     "locked": true,
     "schema_version": 3,
     "solution": false
    }
   },
   "source": [
    "### b) Improving the solution\n",
    "You may get better results by thresholding and applying the morphological operations only to pixels below a threshold, i.e. gap pixels. Compliment your solution from a). "
   ]
  },
  {
   "cell_type": "code",
   "execution_count": null,
   "metadata": {
    "nbgrader": {
     "grade": true,
     "grade_id": "cell-a419214d632a6cf6",
     "locked": false,
     "points": 5,
     "schema_version": 3,
     "solution": true
    }
   },
   "outputs": [],
   "source": [
    "%matplotlib inline\n",
    "import numpy as np\n",
    "import matplotlib.pyplot as plt\n",
    "import scipy.ndimage as ndimg\n",
    "from skimage import color\n",
    "from skimage.transform import rescale as rescale\n",
    "from imageio.v2 import imread\n",
    "\n",
    "\n",
    "angle = 15\n",
    "thresh = .3\n",
    "struc_elem = np.ones((5,1), dtype=bool)\n",
    "\n",
    "img = imread(\"images/landsat_stack2.png\")\n",
    "img2 = img.copy()\n",
    "img3 = img.copy()\n",
    "\n",
    "# BEGIN SOLUTION\n",
    "img = ndimg.rotate(img, angle)\n",
    "img2 = img.copy()\n",
    "img3 = img.copy()\n",
    "img_gray = color.rgb2gray(img)\n",
    "thresh_img = np.zeros_like(img_gray).astype(bool)\n",
    "\n",
    "struc_elem_height_half = len(struc_elem)//2\n",
    "\n",
    "# threshold such that only for black pixels the value is computed\n",
    "thresh_img[img_gray < thresh] = True\n",
    "thresh_img = ndimg.binary_dilation(thresh_img, iterations=1, structure=np.ones((5,5),dtype=bool))\n",
    "\n",
    "# Dilation\n",
    "for i in np.arange(struc_elem_height_half, img.shape[0] - struc_elem_height_half):\n",
    "    for j in np.arange(0, img.shape[1]):\n",
    "        if (thresh_img[i,j]):\n",
    "             img2[i,j,:] = np.max(img[i-struc_elem_height_half:i+struc_elem_height_half,j,:], axis=0)\n",
    "\n",
    "# Erosion\n",
    "for i in np.arange(struc_elem_height_half, img.shape[0] - struc_elem_height_half):\n",
    "    for j in np.arange(0, img.shape[1]):\n",
    "        if (thresh_img[i,j]):\n",
    "            img3[i,j,:] = np.min(img2[i-struc_elem_height_half:i+struc_elem_height_half,j,:], axis=0) \n",
    "                  \n",
    "                        \n",
    "img = ndimg.rotate(img, -angle)\n",
    "img2 = ndimg.rotate(img2, -angle)\n",
    "img3 = ndimg.rotate(img3, -angle)\n",
    "# END SOLUTION\n",
    "img = (img - np.min(img))/np.ptp(img)\n",
    "img3 = (img3 - np.min(img3))/np.ptp(img3)\n",
    "\n",
    "\n",
    "plt.figure(figsize=(15,45))\n",
    "plt.subplot(3,1,1); plt.imshow(img); plt.axis('off')\n",
    "plt.subplot(3,1,2); plt.imshow(img3); plt.axis('off')\n",
    "plt.subplot(3,1,3); plt.imshow(thresh_img); plt.axis('off')\n",
    "plt.imshow(thresh_img)\n",
    "plt.show()\n"
   ]
  },
  {
   "cell_type": "markdown",
   "metadata": {
    "nbgrader": {
     "grade": false,
     "grade_id": "cell-895c6b10e93a0b17",
     "locked": true,
     "schema_version": 3,
     "solution": false
    }
   },
   "source": [
    "### c) Bonus\n",
    "Can you think of (and implement) other ways to add the missing data? \n"
   ]
  },
  {
   "cell_type": "markdown",
   "metadata": {
    "nbgrader": {
     "grade": true,
     "grade_id": "cell-5b15415ce81bdce1",
     "locked": false,
     "points": 0,
     "schema_version": 3,
     "solution": true
    }
   },
   "source": []
  },
  {
   "cell_type": "markdown",
   "metadata": {
    "nbgrader": {
     "grade": false,
     "grade_id": "cell-d4ff17dad755ebc5",
     "locked": true,
     "schema_version": 3,
     "solution": false
    }
   },
   "source": [
    "## Bonus: Painting with a webcam using color detection"
   ]
  },
  {
   "cell_type": "markdown",
   "metadata": {
    "nbgrader": {
     "grade": false,
     "grade_id": "cell-16a694273ffb7f47",
     "locked": true,
     "schema_version": 3,
     "solution": false,
     "task": false
    }
   },
   "source": [
    "If you solve this assignment you may leave out one of the other assignments. There will be similar assignments on most of the following sheets. These bonus assignments are intended to show potential applications of the techniques you learnt in class. They are usually a bit more challenging and often there exist multiple ways to address them. Even if you do not intend to solve them, you may profit from at least taking a look."
   ]
  },
  {
   "cell_type": "markdown",
   "metadata": {
    "nbgrader": {
     "grade": false,
     "grade_id": "cell-f266723bef52f124",
     "locked": true,
     "schema_version": 3,
     "solution": false,
     "task": false
    }
   },
   "source": [
    "### Testing your webcam: Images\n",
    "From now on we will try to make the exercises a bit more interactive and use live feed from your webcam. Unfortunately, using the webcam may not always work out of box (depending on your hardware/os configuration). So first make sure that you can grab an image from the webcam.\n",
    "\n",
    "1. Use the `imageio` library as presented in the tutorial sessions. You will probably need to install `ffmpeg` packages as shown in the tutorial code.\n",
    "1. Use the `cv2` library (opencv will use `gstreamer`). You will probably need to install then `opencv` package.\n",
    "\n",
    "Hint: Sometimes it helps to restart the kernel."
   ]
  },
  {
   "cell_type": "code",
   "execution_count": null,
   "metadata": {},
   "outputs": [],
   "source": [
    "%matplotlib inline\n",
    "import matplotlib.pyplot as plt\n",
    "\n",
    "# number of your webcam (usually 0)\n",
    "webcam = 1\n",
    "\n",
    "# Set this flag to either use \"imageio\" or \"cv2\"\n",
    "use_imageio = False\n",
    "\n",
    "if use_imageio:\n",
    "    # use imageio for accessing the webcam (requires ffmpeg to be installed on your computer)\n",
    "    import imageio\n",
    "    try:\n",
    "        with imageio.get_reader(f'<video{webcam}>') as reader:\n",
    "            img = reader.get_next_data()\n",
    "            ok = True\n",
    "    except:\n",
    "        ok = False\n",
    "else:\n",
    "    # use opencv for accessing the webcam\n",
    "    import cv2\n",
    "    try:\n",
    "        camera = cv2.VideoCapture(webcam)\n",
    "        ok, img = camera.read()\n",
    "        if ok:\n",
    "            img = cv2.cvtColor(img, cv2.COLOR_BGR2RGB)\n",
    "    finally:\n",
    "        camera.release()\n",
    "\n",
    "if ok:\n",
    "    plt.imshow(img)\n",
    "    plt.show()\n",
    "else:\n",
    "    print(\"Accessing your webcam failed.\")"
   ]
  },
  {
   "cell_type": "markdown",
   "metadata": {
    "nbgrader": {
     "grade": false,
     "grade_id": "cell-ae7cd6d7b3fc1ee6",
     "locked": true,
     "schema_version": 3,
     "solution": false,
     "task": false
    }
   },
   "source": [
    "### Testing your webcam: Video\n",
    "\n",
    "You can now test your webcam with video. A video stream is essentially a loop that repeatedly fetches new images and displays them. We will provide two code skeletons for such a loop, one for `imageio` and one for `cv2`(OpenCV), that you may use for your code. Make sure, you have set your `webcam` variable to a valid camera index."
   ]
  },
  {
   "cell_type": "markdown",
   "metadata": {
    "nbgrader": {
     "grade": false,
     "grade_id": "cell-8eed8027ad20ff2b",
     "locked": true,
     "schema_version": 3,
     "solution": false,
     "task": false
    }
   },
   "source": [
    "**imageio**\n",
    "\n",
    "For `imageio` you may use the following code:"
   ]
  },
  {
   "cell_type": "code",
   "execution_count": null,
   "metadata": {
    "slideshow": {
     "slide_type": ""
    }
   },
   "outputs": [],
   "source": [
    "%matplotlib notebook\n",
    "from IPython.display import display, HTML\n",
    "import matplotlib.pyplot as plt\n",
    "import imageio\n",
    "\n",
    "try:\n",
    "    display(HTML(\"press <kbd>I</kbd>, <kbd>I</kbd> (Kernel Interrupt) to stop the demo!\"))\n",
    "    with imageio.get_reader(f'<video{webcam}>') as reader:\n",
    "        fig = plt.figure(figsize=(8,6))\n",
    "        mpl_image = plt.imshow(reader.get_next_data())\n",
    "\n",
    "        while True:\n",
    "            img = reader.get_next_data()\n",
    "            mpl_image.set_data(img)\n",
    "            fig.canvas.draw()\n",
    "except KeyboardInterrupt:\n",
    "    print(\"Interrupted\")\n",
    "finally:\n",
    "    reader.close()\n",
    "    # plt.close(fig)\n",
    "    print(\"Camera was closed.\")"
   ]
  },
  {
   "cell_type": "markdown",
   "metadata": {
    "nbgrader": {
     "grade": false,
     "grade_id": "cell-85e53bdca907bbbd",
     "locked": true,
     "schema_version": 3,
     "solution": false,
     "task": false
    }
   },
   "source": [
    "**OpenCV**\n",
    "\n",
    "For `cv2` you may use the following code:"
   ]
  },
  {
   "cell_type": "code",
   "execution_count": null,
   "metadata": {
    "slideshow": {
     "slide_type": ""
    }
   },
   "outputs": [],
   "source": [
    "%matplotlib notebook\n",
    "from IPython.display import display, HTML\n",
    "import matplotlib.pyplot as plt\n",
    "import cv2\n",
    "       \n",
    "try:\n",
    "    display(HTML(\"press <kbd>I</kbd>, <kbd>I</kbd> (Kernel Interrupt) to stop the demo!\"))\n",
    "    camera = cv2.VideoCapture(webcam)\n",
    "    ok, img = camera.read()\n",
    "    if ok:\n",
    "        fig = plt.figure(figsize=(8,6))\n",
    "        mpl_image = plt.imshow(cv2.cvtColor(img, cv2.COLOR_BGR2RGB))\n",
    "    while ok:\n",
    "        mpl_image.set_data(cv2.cvtColor(img, cv2.COLOR_BGR2RGB))\n",
    "        fig.canvas.draw()\n",
    "        ok, img = camera.read()\n",
    "except KeyboardInterrupt:\n",
    "    print(\"Interrupted\")\n",
    "finally:\n",
    "    camera.release()\n",
    "    # plt.close(fig)\n",
    "    print(\"Camera was closed.\")"
   ]
  },
  {
   "cell_type": "markdown",
   "metadata": {
    "nbgrader": {
     "grade": false,
     "grade_id": "cell-5eb388ec5f5c3f3f",
     "locked": true,
     "schema_version": 3,
     "solution": false
    }
   },
   "source": [
    "### a) Color detection\n",
    "In this task we will track a small colored object (like the cap of a pen) in front of a neutral background of a different color. We will use the location of the object to paint on a virtual canvas. For that you have to implement the following tasks in the `draw_func` function:\n",
    "\n",
    "* Convert the image `img` given to the `draw_func` into HSV color space. \n",
    "* Measure the color of your object. You may return the converted image and interactively measure the color with your mouse. Define your measured hue value in a constant\n",
    "* Discard all channel except the hue channel. \n",
    "* Find the location with the most similar hue to the measured hue of your object.\n",
    "* Paint a marker, for example a circle, at this position in `img_draw`."
   ]
  },
  {
   "cell_type": "code",
   "execution_count": null,
   "metadata": {
    "nbgrader": {
     "grade": true,
     "grade_id": "cell-ba6ce24dc320a7341",
     "locked": false,
     "points": 0,
     "schema_version": 3,
     "solution": true
    }
   },
   "outputs": [],
   "source": [
    "%matplotlib inline\n",
    "\n",
    "import imageio\n",
    "import numpy as np\n",
    "import matplotlib.pyplot as plt\n",
    "import matplotlib as mpl\n",
    "from skimage.color import rgb2hsv\n",
    "from skimage.draw import disk\n",
    "\n",
    "# Adapt this hue value to the hue of your object\n",
    "hue = .3\n",
    "\n",
    "# A global canvas to draw on\n",
    "canvas = np.zeros((480,640,3), np.uint8) \n",
    "\n",
    "# radius and color of the brush\n",
    "radius = 5\n",
    "color = (255,255,255)\n",
    "\n",
    "# saturation threshold for object\n",
    "thresh = .2\n",
    "\n",
    "def draw_func(img):\n",
    "    \"\"\"\n",
    "    Draw a circle on img_draw at the detected object location.\n",
    "    \n",
    "    Args:\n",
    "        img          the RGB input image (uint8)\n",
    "\n",
    "    Returns:\n",
    "        img_draw     img with circle drawn at postion of object\n",
    "    \"\"\"\n",
    "    global canvas, hue, radius, color\n",
    "    \n",
    "    # BEGIN SOLUTION\n",
    "    \n",
    "    img_hsv = rgb2hsv(img)\n",
    "\n",
    "    hue_channel = img_hsv[...,0]\n",
    "    img_diff1 = np.abs(hue_channel - hue)\n",
    "    img_diff2 = 1 - np.abs(hue_channel - hue)\n",
    "    img_diff = np.minimum(img_diff1, img_diff2)\n",
    "    \n",
    "    minloc = np.unravel_index(np.argmin(img_diff), img_diff.shape)\n",
    "    \n",
    "    # check if object is saturated\n",
    "    if img_hsv[minloc[0], minloc[1],1] > thresh:\n",
    "        rr, cc = disk((minloc[0], minloc[1]), radius, shape=canvas.shape)\n",
    "        canvas[rr, cc] = color\n",
    "    # END SOLUTION\n",
    "    \n",
    "    return canvas\n",
    "\n",
    "# Make a figure and axes with dimensions as desired.\n",
    "fig = plt.figure(figsize=(8, 1))\n",
    "ax = fig.add_axes([0.05, 0.80, 0.9, 0.15])\n",
    "cb = mpl.colorbar.ColorbarBase(ax, cmap=mpl.cm.hsv, orientation='horizontal',\n",
    "                               norm=mpl.colors.Normalize(vmin=0, vmax=1))\n",
    "cb.set_ticks([hue])\n",
    "cb.set_label('the hue value')\n",
    "plt.show()"
   ]
  },
  {
   "cell_type": "markdown",
   "metadata": {
    "nbgrader": {
     "grade": false,
     "grade_id": "cell-8385579de23e63e5",
     "locked": true,
     "schema_version": 3,
     "solution": false,
     "task": false
    }
   },
   "source": [
    "First test your function with single image. You may either grab an image from your webcam (as described above), or choose an arbitrary image from wherever you like"
   ]
  },
  {
   "cell_type": "code",
   "execution_count": null,
   "metadata": {},
   "outputs": [],
   "source": [
    "%matplotlib inline\n",
    "import matplotlib.pyplot as plt\n",
    "\n",
    "draw_func(img)\n",
    "plt.subplot(1,2,1); plt.imshow(img)\n",
    "plt.subplot(1,2,2); plt.imshow(canvas)\n",
    "plt.show()"
   ]
  },
  {
   "cell_type": "markdown",
   "metadata": {
    "nbgrader": {
     "grade": false,
     "grade_id": "cell-e863b6c2d0bcf602",
     "locked": true,
     "schema_version": 3,
     "solution": false,
     "task": false
    }
   },
   "source": [
    "### b) Implement the paint functionality\n",
    "\n",
    "Now run your function on video, interatively updateing the image."
   ]
  },
  {
   "cell_type": "code",
   "execution_count": null,
   "metadata": {
    "nbgrader": {
     "grade": true,
     "grade_id": "cell-97ea9822d8ae4add",
     "locked": false,
     "points": 0,
     "schema_version": 3,
     "solution": true,
     "task": false
    }
   },
   "outputs": [],
   "source": [
    "%matplotlib notebook\n",
    "from IPython.display import display, HTML\n",
    "import matplotlib.pyplot as plt\n",
    "import imageio\n",
    "\n",
    "try:\n",
    "    display(HTML(\"press <kbd>I</kbd>, <kbd>I</kbd> (Kernel Interrupt) to stop the demo!\"))\n",
    "    with imageio.get_reader(f'<video{webcam}>') as webcam:\n",
    "        fig = plt.figure(figsize=(12,6))\n",
    "        plt.subplot(1,2,1)\n",
    "        mpl_image1 = plt.imshow(webcam.get_next_data())\n",
    "        plt.subplot(1,2,2)\n",
    "        mpl_image2 = plt.imshow(webcam.get_next_data())\n",
    "\n",
    "        while True:\n",
    "            img = webcam.get_next_data()\n",
    "            # mirror the image to make drawing easier\n",
    "            img = img[:,::-1,:]\n",
    "            img_processed = draw_func(img)\n",
    "            mpl_image1.set_data(img)\n",
    "            mpl_image2.set_data(img_processed)\n",
    "            fig.canvas.draw()\n",
    "except KeyboardInterrupt:\n",
    "    print(\"Interrupted\")\n",
    "finally:\n",
    "    webcam.close()\n",
    "    # plt.close(fig)\n",
    "    print(\"Camera was closed.\")"
   ]
  }
 ],
 "metadata": {
  "kernelspec": {
   "display_name": "Python 3",
   "language": "python",
   "name": "python3"
  },
  "language_info": {
   "codemirror_mode": {
    "name": "ipython",
    "version": 3
   },
   "file_extension": ".py",
   "mimetype": "text/x-python",
   "name": "python",
   "nbconvert_exporter": "python",
   "pygments_lexer": "ipython3",
   "version": "3.7.6"
  }
 },
 "nbformat": 4,
 "nbformat_minor": 5
}
