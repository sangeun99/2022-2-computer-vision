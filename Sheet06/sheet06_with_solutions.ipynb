{
 "cells": [
  {
   "cell_type": "markdown",
   "metadata": {
    "nbgrader": {
     "grade": false,
     "grade_id": "h00",
     "locked": true,
     "schema_version": 3,
     "solution": false
    }
   },
   "source": [
    "Osnabrück University - Computer Vision (Winter Term 2022/23) - Prof. Dr.-Ing. G. Heidemann, Ulf Krumnack"
   ]
  },
  {
   "cell_type": "markdown",
   "metadata": {
    "nbgrader": {
     "grade": false,
     "grade_id": "cell-2996ef56280eb17f",
     "locked": true,
     "schema_version": 3,
     "solution": false
    }
   },
   "source": [
    "# Exercise Sheet 06: Segmentation 3 & Hough Transform"
   ]
  },
  {
   "cell_type": "markdown",
   "metadata": {
    "nbgrader": {
     "grade": false,
     "grade_id": "cell-4afea340e25d6043",
     "locked": true,
     "schema_version": 3,
     "solution": false
    }
   },
   "source": [
    "## Introduction\n",
    "\n",
    "This week's sheet should be solved and handed in before end of **Sunday, December 18, 2022**. If you need help (and Google and other resources were not enough), feel free to use the Stud.IP forum. Please upload your results to your group's Stud.IP folder."
   ]
  },
  {
   "cell_type": "markdown",
   "metadata": {
    "nbgrader": {
     "grade": false,
     "grade_id": "cell-88b773263ced806b",
     "locked": true,
     "schema_version": 3,
     "solution": false
    }
   },
   "source": [
    "## Assignment 1: $k$-means segmentation (5 points)"
   ]
  },
  {
   "cell_type": "markdown",
   "metadata": {
    "nbgrader": {
     "grade": false,
     "grade_id": "cell-968700f39fdd5d90",
     "locked": true,
     "schema_version": 3,
     "solution": false
    }
   },
   "source": [
    "**a)** Explain the idea of $k$-means clustering and how it can be used for segmentation."
   ]
  },
  {
   "cell_type": "markdown",
   "metadata": {
    "nbgrader": {
     "grade": true,
     "grade_id": "cell-39516774ed896353",
     "locked": false,
     "points": 1,
     "schema_version": 3,
     "solution": true
    },
    "solution": true
   },
   "source": [
    "In $k$-means clustering, $k$ initial reference points (cluster centers) are choosen randomly. Every point in the dataset will be assigned to the closest reference point, thereby forming $k$ initial clusters. Then the $k$ refrence points are moved towards the mean (center of gravity) of their respecetive cluster. This relocation of reference points may result in some points changing their label. This process is repeated until some given condition is fulfilled (e.g. number of iterations, no significant change, ...).\n",
    "\n",
    "In \"color segmentation\", one tries to find clusters in some color space. Then points in the image are labeled by the color cluster to which they belong. Notice, that this in general does not result in \"segments\" that are spatially connected (as would be required by our definition of segment, CV-07 slide 6), e.g. there may be multiple red segments in an image. Hence one may be forced to relabel the results to get real segments."
   ]
  },
  {
   "cell_type": "markdown",
   "metadata": {
    "nbgrader": {
     "grade": false,
     "grade_id": "cell-ef26310265357445",
     "locked": true,
     "schema_version": 3,
     "solution": false
    }
   },
   "source": [
    "**b)** Implement k-means clustering for color segmentation of an RGB image (no use of `scipy.cluster.vq.kmeans` or similar functions allowed here, but you may use functions like `numpy.mean`, `scipy.spatial.distance.cdist` and similar utility functions). Stop calculation when center vectors do not change more than a predefined threshold. Avoid empty clusters by re-initializing the corresponding center vector. (Empirically) determine a good value for $k$ for clustering the image 'peppers.png'.\n",
    "**Bonus** If you want you can visualize the intermediate steps of the clustering process."
   ]
  },
  {
   "cell_type": "markdown",
   "metadata": {
    "nbgrader": {
     "grade": false,
     "grade_id": "cell-519f9fdb2f560fe1",
     "locked": true,
     "schema_version": 3,
     "solution": false
    }
   },
   "source": [
    "First lets take a look at how our image looks in RGB colorspace. "
   ]
  },
  {
   "cell_type": "code",
   "execution_count": null,
   "metadata": {
    "nbgrader": {
     "grade": false,
     "grade_id": "cell-b01d17a292a4b149",
     "locked": true,
     "schema_version": 3,
     "solution": false
    }
   },
   "outputs": [],
   "source": [
    "from mpl_toolkits.mplot3d import Axes3D\n",
    "from imageio.v2 import imread\n",
    "import matplotlib.pyplot as plt\n",
    "%matplotlib notebook\n",
    "\n",
    "img = imread('images/peppers.png')\n",
    "vec = img.reshape((-1, img.shape[2]))\n",
    "vec_scaled = vec / 255\n",
    "fig = plt.figure(figsize=(12, 12))\n",
    "ax = fig.add_subplot(111, projection='3d')\n",
    "ret = ax.scatter(vec[:, 0], vec[:, 1], vec[:, 2], c=vec_scaled, marker='.')"
   ]
  },
  {
   "cell_type": "code",
   "execution_count": null,
   "metadata": {
    "nbgrader": {
     "grade": true,
     "grade_id": "cell-7c3eb548caa02d4d",
     "locked": false,
     "points": 2,
     "schema_version": 3,
     "solution": true
    }
   },
   "outputs": [],
   "source": [
    "import numpy as np\n",
    "from scipy.spatial import distance\n",
    "from IPython import display\n",
    "from imageio.v2 import imread\n",
    "import time\n",
    "import matplotlib.pyplot as plt\n",
    "%matplotlib inline\n",
    "\n",
    "def kmeans_rgb(img, k, threshold=0, do_display=None):\n",
    "    \"\"\"\n",
    "    k-means clustering in RGB space.\n",
    "\n",
    "    Args:\n",
    "        img (numpy.ndarray): an RGB image\n",
    "        k (int): the number of clusters\n",
    "        threshold (float): Maximal change for convergence criterion.\n",
    "        do_display (bool): Whether or not to plot, intermediate steps.\n",
    "        \n",
    "    Results:\n",
    "        cluster (numpy.ndarray): an array of the same size as `img`,\n",
    "            containing for each pixel the cluster it belongs to\n",
    "        centers (numpy.ndarray): 'number of clusters' x 3 array. \n",
    "            RGB color for each cluster center.\n",
    "    \"\"\"\n",
    "    # BEGIN SOLUTION\n",
    "\n",
    "    # Transform image into n_pixels 3-dimensional vectors.\n",
    "    vec = img.reshape((-1, img.shape[2]))\n",
    "    n_pixels = vec.shape[0]\n",
    "\n",
    "    # Initialize random center vectors from data set.\n",
    "    random_indices = np.random.choice(n_pixels, size=k, replace=False)\n",
    "    centers = vec[random_indices]\n",
    "\n",
    "    change = float('Inf')\n",
    "    while change > threshold:\n",
    "        # Remember previous centers.\n",
    "        old_centers = centers.copy()\n",
    "            \n",
    "        # Calculate distance and best matching center vector.\n",
    "        cluster = distance.cdist(vec, centers).argmin(axis=1)\n",
    "\n",
    "        # Recalculate cluster centers.\n",
    "        for i in range(k):\n",
    "            idx = cluster == i\n",
    "            if idx.any():\n",
    "                centers[i] = vec[idx].mean(axis=0)\n",
    "            else:\n",
    "                # No vector is a match for this center vector.\n",
    "                # Re-initialize center vector.\n",
    "                centers[i] = vec[np.random.randint(n_pixels)]\n",
    "\n",
    "        change = np.sum(np.linalg.norm(centers - old_centers))\n",
    "        \n",
    "        if do_display:\n",
    "            plt.imshow(centers[cluster].reshape(img.shape))\n",
    "            plt.title('change: {:.2f}'.format(change))\n",
    "            display.clear_output(wait=True)\n",
    "            display.display(plt.gcf())\n",
    "            time.sleep(0.1)\n",
    "        elif do_display is not None:\n",
    "            print(change)\n",
    "        \n",
    "    cluster = cluster.reshape(img.shape[:2])\n",
    "\n",
    "    if do_display is not None:\n",
    "        print(cluster.shape)\n",
    "        print(centers.shape)\n",
    "        print(cluster.max())\n",
    "        print(centers[cluster].shape)\n",
    "\n",
    "    return cluster, centers\n",
    "    # END SOLUTION\n",
    "\n",
    "\n",
    "img = imread('images/peppers.png')\n",
    "\n",
    "cluster, centers = kmeans_rgb(img, k=7, threshold=0, do_display=True)\n",
    "plt.imshow(centers[cluster])\n",
    "plt.show()"
   ]
  },
  {
   "cell_type": "markdown",
   "metadata": {
    "nbgrader": {
     "grade": false,
     "grade_id": "cell-b06ae459499022d8",
     "locked": true,
     "schema_version": 3,
     "solution": false
    }
   },
   "source": [
    "**c)** Now do the same in the HSV space (remember its special topological structure). Check if you can improve the results by ignoring some of the HSV channels."
   ]
  },
  {
   "cell_type": "code",
   "execution_count": null,
   "metadata": {
    "nbgrader": {
     "grade": true,
     "grade_id": "cell-2f871a555d5f45c4",
     "locked": false,
     "points": 2,
     "schema_version": 3,
     "solution": true
    }
   },
   "outputs": [],
   "source": [
    "import numpy as np\n",
    "import matplotlib.pyplot as plt\n",
    "from scipy.spatial import distance\n",
    "from skimage import color\n",
    "from imageio.v2 import imread\n",
    "%matplotlib inline\n",
    "# from matplotlib.colors import rgb_to_hsv, hsv_to_rgb\n",
    "\n",
    "img = imread('images/peppers.png', pilmode = 'RGB')\n",
    "\n",
    "def kmeans_hsv(img, k, threshold = 0):\n",
    "    \"\"\"\n",
    "    k-means clustering in HSV space.\n",
    "\n",
    "    Args:\n",
    "        img (numpy.ndarray): an HSV image\n",
    "        k (int): the number of clusters\n",
    "        threshold (float): \n",
    "        \n",
    "    Results:\n",
    "        cluster (numpy.ndarray): an array of the same size as `img`,\n",
    "            containing for each pixel the cluster it belongs to\n",
    "        centers (numpy.ndarray): an array\n",
    "    \"\"\"\n",
    "    # BEGIN SOLUTION\n",
    "    # transform image into a vector\n",
    "    # allow for single channel and hsv images\n",
    "    img = np.atleast_3d(img)\n",
    "    vec = img.reshape((-1,img.shape[-1]))\n",
    "    pixels = vec.shape[0]\n",
    "\n",
    "    # initialize random center vectors from data set\n",
    "    centers = vec[np.random.choice(pixels, k, replace=False)]\n",
    "\n",
    "    change = float('Inf')\n",
    "    while change > threshold:\n",
    "        # remember previous centers\n",
    "        old_centers = centers\n",
    "            \n",
    "        # calculate distance and best matching center vector\n",
    "        cluster = distance.cdist(vec,centers).argmin(1)\n",
    "\n",
    "        # recalculate cluster centers\n",
    "        centers = np.empty(centers.shape, centers.dtype)\n",
    "        for i in range(k):\n",
    "            idx = cluster == i\n",
    "            if idx.any():\n",
    "                centers[i] = vec[idx].mean(0)\n",
    "            else:\n",
    "                # no vector is a match for this center vector\n",
    "                # Re-initialize center vector\n",
    "                centers[i] = vec[np.random.randint(pixels)]\n",
    "\n",
    "        change = np.sqrt(((centers-old_centers) ** 2).sum(1)).sum()\n",
    "        #print(change)\n",
    "        \n",
    "    cluster = cluster.reshape(img.shape[0:2])\n",
    "    # END SOLUTION\n",
    "    return cluster, centers\n",
    "\n",
    "\n",
    "img_hsv = color.rgb2hsv(img)\n",
    "k = 7\n",
    "theta = 0.01\n",
    "\n",
    "cluster, centers_hsv = kmeans_hsv(img_hsv[:,:,:], k, theta)\n",
    "if (centers_hsv.shape[1] == 3):\n",
    "    plt.imshow(color.hsv2rgb(centers_hsv[cluster]))\n",
    "else:\n",
    "    plt.gray()\n",
    "    plt.imshow(np.squeeze(centers_hsv[cluster]))\n",
    "plt.show()"
   ]
  },
  {
   "cell_type": "markdown",
   "metadata": {
    "nbgrader": {
     "grade": false,
     "grade_id": "cell-28c4b62ad50b7af5",
     "locked": true,
     "schema_version": 3,
     "solution": false,
     "task": false
    }
   },
   "source": [
    "## Assignment 2: Evaluation of Segmentation (5 points)"
   ]
  },
  {
   "cell_type": "markdown",
   "metadata": {
    "nbgrader": {
     "grade": false,
     "grade_id": "cell-9fb8fa706d926e8c",
     "locked": true,
     "schema_version": 3,
     "solution": false,
     "task": false
    }
   },
   "source": [
    "**a)** What is the goal of evaluating segmentations? Discuss the question with reference to the role that segmentation could play in a computer vision system? What problems do you anticipate?"
   ]
  },
  {
   "cell_type": "markdown",
   "metadata": {
    "nbgrader": {
     "grade": true,
     "grade_id": "cell-b35744d4a15a0cf6",
     "locked": false,
     "points": 1,
     "schema_version": 3,
     "solution": true,
     "task": false
    }
   },
   "source": []
  },
  {
   "cell_type": "markdown",
   "metadata": {
    "nbgrader": {
     "grade": false,
     "grade_id": "cell-b0a5306d0106db08",
     "locked": true,
     "schema_version": 3,
     "solution": false,
     "task": false
    }
   },
   "source": [
    "**b)** Explain how color may help in segmentation? Discuss potential applications and its limits."
   ]
  },
  {
   "cell_type": "markdown",
   "metadata": {
    "nbgrader": {
     "grade": true,
     "grade_id": "cell-0c664bdc5c42732c",
     "locked": false,
     "points": 1,
     "schema_version": 3,
     "solution": true,
     "task": false
    }
   },
   "source": []
  },
  {
   "cell_type": "markdown",
   "metadata": {
    "nbgrader": {
     "grade": false,
     "grade_id": "cell-7661cc64c5b3fb10",
     "locked": true,
     "schema_version": 3,
     "solution": false,
     "task": false
    }
   },
   "source": [
    "**c)** Explain the idea of the saliency measure introduced on CV-07 slides 111ff. Explain the formulae for $S_R(R_i)$ and $S$. What types of segmentation does this measure prefer? What problems do you see with this measure?"
   ]
  },
  {
   "cell_type": "markdown",
   "metadata": {
    "nbgrader": {
     "grade": true,
     "grade_id": "cell-5070b45eda18e0ce",
     "locked": false,
     "points": 3,
     "schema_version": 3,
     "solution": true,
     "task": false
    }
   },
   "source": []
  },
  {
   "cell_type": "markdown",
   "metadata": {
    "nbgrader": {
     "grade": false,
     "grade_id": "cell-ba8ee2b9d1e1b532",
     "locked": true,
     "schema_version": 3,
     "solution": false
    }
   },
   "source": [
    "## Assignment 3: Interactive Region Growing (5 points)\n",
    "\n",
    "Implement flood fill as described in (CV07 slides 123ff.).\n",
    "\n",
    "In a recursive implementation the floodfill function is called for the seed pixel. In the function a recursive call for the four neighbouring pixels is made, if the color of the pixel, the function is called with, is similar to the seed color. If this is the case the pixel is added to the region. [Other](https://en.wikipedia.org/wiki/Flood_fill) more elegant solutions exist aswell.\n",
    "\n",
    "The function `on_press` is called when a mouse button is pressed inside the canvas. From there call `floodfill`. Use the filtered hsv image `img_filtered` for your computation, and show the computed region around the seed point (the position where the mouse button was pressed) in the original image. You may use a mask to save which pixels belong the the region (and to save which pixels you already visited). \n",
    "\n",
    "Hint: If you can not see the image, try restarting the kernel."
   ]
  },
  {
   "cell_type": "code",
   "execution_count": null,
   "metadata": {
    "nbgrader": {
     "grade": true,
     "grade_id": "cell-cdade115569170d14",
     "locked": false,
     "points": 5,
     "schema_version": 3,
     "solution": true
    }
   },
   "outputs": [],
   "source": [
    "%matplotlib notebook\n",
    "import imageio.v2 as imageio\n",
    "import math\n",
    "import numpy as np\n",
    "from matplotlib import pyplot as plt\n",
    "from skimage import color\n",
    "import scipy.ndimage as ndimage\n",
    "from sys import setrecursionlimit\n",
    "\n",
    "threshold = .08;\n",
    "\n",
    "setrecursionlimit(100000)\n",
    "\n",
    "def floodfill(img, mask, x, y, color, region):\n",
    "    \"\"\"Recursively grows region around seed point\n",
    "    \n",
    "    Args: \n",
    "        img (ndarray): The image in which the region is grown\n",
    "        mask (boolean ndarray): Visited pixels which belong to the region.\n",
    "        x (uint): X coordinate of the pixel. Checks if this pixels belongs to the region\n",
    "        y (uint): Y coordinate of the pixel.\n",
    "        color (list): The color at the seed position\n",
    "        region: \n",
    "    \"\"\"\n",
    "    # BEGIN SOLUTION\n",
    "    if not mask[x,y]:\n",
    "        mask[x,y] = True\n",
    "        if (np.all(np.abs(img[x ,y , 0] - color) < threshold) or np.all(1 - (np.abs(img[x,y,0] - color)) < threshold)):\n",
    "            region[x,y] = True\n",
    "            if x > 0:\n",
    "                floodfill(img, mask, x-1, y, color, region)\n",
    "            if x < img.shape[0] - 1:\n",
    "                floodfill(img, mask, x+1, y, color, region)\n",
    "            if y > 0:\n",
    "                floodfill(img, mask,x, y-1, color, region)\n",
    "            if y < img.shape[1] - 1:\n",
    "                floodfill(img, mask,x, y+1, color, region)\n",
    "    # END SOLUTION\n",
    "\n",
    "def on_press(event):\n",
    "    \"\"\"Mouse button press event handler\n",
    "    \n",
    "    Args:\n",
    "        event: The mouse event\n",
    "    \"\"\"\n",
    "    y = math.floor(event.xdata)\n",
    "    x = math.floor(event.ydata)\n",
    "    color = img_filtered[x, y, :]\n",
    "\n",
    "    # BEGIN SOLUTION\n",
    "    mask = np.zeros((img.shape[0],img.shape[1]), np.bool_)\n",
    "    region = np.zeros((img.shape[0],img.shape[1]), np.bool_)\n",
    "    floodfill(img_filtered, mask, x, y, color, region)\n",
    "    img[region] = (255,255,255)\n",
    "    \n",
    "    # END SOLUTION\n",
    "    plt.imshow(img)\n",
    "    fig.canvas.draw()\n",
    "    \n",
    "\n",
    "def fill_from_pixel(img, img_filtered, x,y):\n",
    "    \"\"\" Calls floodfill from a pixel position\n",
    "    \n",
    "    Args:\n",
    "        img (ndarray): IO image on which fill is drawn.\n",
    "        img_filtered (ndarray): Processing image on which floodfill is computed.\n",
    "        x (uint): Coordinates of pixel position.\n",
    "        y (uint): Coordinates of pixel position.\n",
    "\n",
    "    Returns:\n",
    "        img (ndarray): Image with grown area in white\n",
    "    \"\"\"\n",
    "    mask = np.zeros((img.shape[0],img.shape[1]), np.bool_)\n",
    "    region = np.zeros((img.shape[0],img.shape[1]), np.bool_)\n",
    "    color = img_filtered[x,y, :]\n",
    "    floodfill(img_filtered, mask, x, y, color, region)\n",
    "    img[region] = (255,255,255)\n",
    "    \n",
    "    return img\n",
    "\n",
    "\n",
    "img = imageio.imread('images/peppers.png')\n",
    "img_hsv = color.rgb2hsv(img)\n",
    "img_filtered = ndimage.median_filter(img_hsv, 5)\n",
    "img = fill_from_pixel(img, img_filtered, 200, 300) # Comment in to deactivate simple testing at fixed position\n",
    "fig = plt.figure()\n",
    "ax = fig.add_subplot(111)\n",
    "plt.imshow(img)\n",
    "\n",
    "fig.canvas.mpl_connect('button_press_event', on_press)\n",
    "\n",
    "plt.show()"
   ]
  },
  {
   "cell_type": "markdown",
   "metadata": {
    "nbgrader": {
     "grade": false,
     "grade_id": "cell-ad502c82c65ccfd0",
     "locked": true,
     "schema_version": 3,
     "solution": false
    }
   },
   "source": [
    "## Assignment 4: Hough transform (5 points)"
   ]
  },
  {
   "cell_type": "markdown",
   "metadata": {
    "nbgrader": {
     "grade": false,
     "grade_id": "cell-d69bae3b8a2948c3",
     "locked": true,
     "schema_version": 3,
     "solution": false
    }
   },
   "source": [
    "**a)** Explain in your own words the idea of Hough transform in general. What is an accumulator space? In what sense can the Hough transform be seen as a model-based approach?"
   ]
  },
  {
   "cell_type": "markdown",
   "metadata": {
    "nbgrader": {
     "grade": true,
     "grade_id": "cell-33d2738315906735",
     "locked": false,
     "points": 1,
     "schema_version": 3,
     "solution": true
    },
    "solution": true
   },
   "source": [
    "Hought transform looks for a given shape, e.g. line or circle, in an image and sums up all evidence in an accumulator space. The shape of the accumulator space depends on the representation for the shape, e.g. 2d for lines (angle and distance in Hesse representation) or 3d for circles (x,y position and radius). The shape can be considered of the model to be searched for in the image data."
   ]
  },
  {
   "cell_type": "markdown",
   "metadata": {
    "nbgrader": {
     "grade": false,
     "grade_id": "hough-linear-q3",
     "locked": true,
     "schema_version": 3,
     "solution": false
    }
   },
   "source": [
    "**b)** What is linear Hough transform? What does a point in the linear Hough space represent? Explain the meaning of the two coordinates."
   ]
  },
  {
   "cell_type": "markdown",
   "metadata": {
    "nbgrader": {
     "grade": true,
     "grade_id": "hough-linear-a3",
     "locked": false,
     "points": 2,
     "schema_version": 3,
     "solution": true
    },
    "solution": true
   },
   "source": [
    "Linear Hough transforms aims at finding lines in an image. They are represented in Hesse form (angle and distance) in the accumulator space. A single point can be on multiple lines and results in a sine curve in the accumulator space. Lines will result in a maximal point in the accumulator space.\n",
    "\n",
    "A point in the Hough space (accumulator space) represents (an indicator) for a line in the original space."
   ]
  },
  {
   "cell_type": "markdown",
   "metadata": {
    "nbgrader": {
     "grade": false,
     "grade_id": "cell-7529e0d0a6dae3cf",
     "locked": true,
     "schema_version": 3,
     "solution": false
    }
   },
   "source": [
    "**c)**  How are points, lines, polygons transformed by linear Hough transform? What about parallel lines? Try different configurations using the functions `point`, `line`, `polygon` below. Use the function `skimage.transform.hough_line` to display these examples. You may use the code of Assignment 2 to check\n",
    "different configurations interactively."
   ]
  },
  {
   "cell_type": "markdown",
   "metadata": {
    "nbgrader": {
     "grade": true,
     "grade_id": "cell-5a226552bbd8355b",
     "locked": false,
     "points": 1,
     "schema_version": 3,
     "solution": true
    },
    "solution": true
   },
   "source": [
    " Polygons will give multiple (local) maximal points. Parallel lines will have the same angle and hence result in points with same x-coordinate (angle) in the accumulator space. "
   ]
  },
  {
   "cell_type": "code",
   "execution_count": null,
   "metadata": {
    "nbgrader": {
     "grade": true,
     "grade_id": "cell-4542d093b51781ef",
     "locked": false,
     "points": 1,
     "schema_version": 3,
     "solution": true
    }
   },
   "outputs": [],
   "source": [
    "from skimage.transform import hough_line, resize\n",
    "import matplotlib.pyplot as plt\n",
    "%matplotlib inline\n",
    "import numpy as np\n",
    "\n",
    "steps = lambda p,q : max(map(lambda x,y: abs(x-y), p, q))+1\n",
    "coords = lambda p,q,s : tuple([np.linspace(x,y,s,dtype=np.uint16) for x,y in zip(p,q)])\n",
    "\n",
    "def point(img, p):\n",
    "    \"\"\"Insert a point in the black/white image at position p\n",
    "    \n",
    "    Args:\n",
    "        img (ndarray): Input image.\n",
    "        p (tuple): Coordinate of point.\n",
    "    \n",
    "    Returns:\n",
    "    \n",
    "    \"\"\"\n",
    "    img[p] = 1\n",
    "\n",
    "def line(img, p, q):\n",
    "    \"\"\"Insert a line from p to q in the black/white image\n",
    "    \n",
    "    Args:\n",
    "        img (ndarray): Input image.\n",
    "        p (tuple): Coordinate of start position.\n",
    "        q (tuple): Coordinate of end position.\n",
    "    \n",
    "    Returns:\n",
    "    \n",
    "    \"\"\"\n",
    "    img[coords(p,q,steps(p,q))] = 1\n",
    "\n",
    "def polygon(img, vertices):\n",
    "    \"\"\"Insert a (closed) polygon given by a list of points into the black/white image\n",
    "    \n",
    "    Args:\n",
    "        img (ndarray): Input image.\n",
    "        vertices (list): List of coordinate tuples.\n",
    "    \n",
    "    Returns:\n",
    "    \n",
    "    \"\"\"\n",
    "    for p, q in zip(vertices, vertices[1:]+vertices[0:1]):\n",
    "        line(img,p,q)\n",
    "\n",
    "img = np.zeros((100,100))\n",
    "\n",
    "# BEGIN SOLUTION\n",
    "case = 0\n",
    "if case == 0: # point\n",
    "    point(img, (70,10))\n",
    "elif case == 1: # multiple points\n",
    "    point(img, (10,10))\n",
    "    point(img, (20,40))\n",
    "elif case == 2: # line\n",
    "    line(img,(10,10),(70,70))\n",
    "elif case == 3: # multiple lines\n",
    "    line(img,(10,10),(70,70))\n",
    "    line(img,(10,70),(70,10))\n",
    "elif case == 4: # parallel lines\n",
    "    for i in (20,40,60):\n",
    "        line(img,(10,i),(70,i))\n",
    "elif case == 5: # polygon\n",
    "    polygon(img,[(20,10),(80,50),(80,80),(30,60)])\n",
    "# END SOLUTION\n",
    "\n",
    "fig, [ax1, ax2] = plt.subplots(1,2, figsize=(12,4))\n",
    "\n",
    "plt.gray()\n",
    "ax1.set_title('Image'); \n",
    "ax1.imshow(img, origin = 'lower')\n",
    "\n",
    "out, angles, d = hough_line(img)\n",
    "\n",
    "# scale output to quadratic image\n",
    "out_resized = resize(out, (out.shape[0], out.shape[0]), anti_aliasing=True, preserve_range=True)\n",
    "ax2.set_title('Hough transform (skimage)');\n",
    "ax2.set_xlabel('Angles (degrees)')\n",
    "ax2.set_ylabel('Distance (pixels)')\n",
    "ax2.imshow(np.log(1 + out_resized), origin = 'lower', cmap='gray')\n",
    "\n",
    "ax2.set_yticks(np.linspace(0, out.shape[0], 7))\n",
    "ax2.set_yticklabels((-1 * np.linspace(d[-1], d[0], 7)).astype(int))\n",
    "ax2.set_xticks(np.linspace(0, out.shape[0], 5))\n",
    "ax2.set_xticklabels(np.linspace(np.rad2deg(angles[0]), np.rad2deg(angles[-1]), 5).astype(int))\n",
    "\n",
    "\n",
    "plt.show()"
   ]
  },
  {
   "cell_type": "markdown",
   "metadata": {},
   "source": [
    "**d)** The following code block implements an interactive Hough transform, in which you can either draw points or lines and can see the resulting Hough transform immediately. Draw different shapes of points or lines and check the resulting Hough transform. Try to predict the outcome of the transformation!"
   ]
  },
  {
   "cell_type": "code",
   "execution_count": null,
   "metadata": {
    "nbgrader": {
     "grade": true,
     "grade_id": "cell-intact-hough",
     "locked": false,
     "points": 1,
     "schema_version": 3,
     "solution": true,
     "task": false
    }
   },
   "outputs": [],
   "source": [
    "%matplotlib notebook\n",
    "from skimage.transform import hough_line, resize\n",
    "import matplotlib.pyplot as plt\n",
    "import numpy as np\n",
    "\n",
    "# True if two mouse clicks should draw a line, false if single clicks draw points\n",
    "lines = True\n",
    "\n",
    "steps = lambda p,q : max(map(lambda x,y: abs(x-y), p, q))+1\n",
    "coords = lambda p,q,s : tuple([np.linspace(x,y,s,dtype=np.uint16) for x,y in zip(p,q)])\n",
    "img = np.zeros((200,200))\n",
    "\n",
    "\n",
    "def line(img, p, q):\n",
    "    \"\"\"Insert a line from p to q in the black/white image\n",
    "    \n",
    "    Args:\n",
    "        img (ndarray): Input image.\n",
    "        p (tuple): Coordinate of start position.\n",
    "        q (tuple): Coordinate of end position.\n",
    "    \n",
    "    Returns:\n",
    "    \n",
    "    \"\"\"\n",
    "    img[coords(p,q,steps(p,q))] = 1\n",
    "    \n",
    "\n",
    "def disp_and_comp():\n",
    "    \"\"\"Computes Line Hough transform; displays image and result\n",
    "    \n",
    "    Args:\n",
    "    \n",
    "    Returns:\n",
    "    \n",
    "    \"\"\"\n",
    "    ax1.imshow(img, origin = 'lower', cmap='gray')\n",
    "    \n",
    "    out, angles, d = hough_line(img)\n",
    "    \n",
    "    out_resized = resize(out, (out.shape[0], out.shape[0]), anti_aliasing=True, preserve_range=True)\n",
    "    ax2.imshow(np.log(1 + out_resized), origin = 'lower', cmap='gray')\n",
    "    ax2.set_yticks(np.linspace(0, out.shape[0], 7))\n",
    "    ax2.set_yticklabels((-1 * np.linspace(d[-1], d[0], 7)).astype(int))\n",
    "    ax2.set_xticks(np.linspace(0, out.shape[0], 5))\n",
    "    ax2.set_xticklabels(np.linspace(np.rad2deg(angles[0]), np.rad2deg(angles[-1]), 5).astype(int))\n",
    "    \n",
    "    fig.canvas.draw()\n",
    "\n",
    "    \n",
    "first_point = True\n",
    "p1 = (0,0)\n",
    "def on_press(event):\n",
    "    \"\"\"Draws either line or point and calls disp_and_comp\n",
    "    \n",
    "    Reacts to mouse clicks. Draws either point at mouse\n",
    "    position and computes Hough transform or draws line\n",
    "    between first and second mouse click and then computes\n",
    "    hough transfom.\n",
    "    \n",
    "    Args:\n",
    "        event (event): Mouseevent.\n",
    "    \n",
    "    Returns:\n",
    "    \n",
    "    \"\"\"\n",
    "    global p1, first_point\n",
    "    y = int(event.xdata)\n",
    "    x = int(event.ydata)\n",
    "    \n",
    "    if (lines):\n",
    "        if (first_point):\n",
    "            p1 = (x,y)\n",
    "            img[x, y] = 255\n",
    "            first_point = False\n",
    "        else:\n",
    "            line(img,p1,(x,y)) \n",
    "            first_point = True\n",
    "        disp_and_comp()\n",
    "    else:\n",
    "        img[x, y] = 255\n",
    "        disp_and_comp()   \n",
    "\n",
    "fig = plt.figure(figsize=(8, 6))\n",
    "\n",
    "ax1 = fig.add_subplot(121)\n",
    "plt.title('Image')\n",
    "\n",
    "ax2 = fig.add_subplot(122)\n",
    "plt.title('Hough transform');\n",
    "plt.xlabel('Angles (degrees)')\n",
    "plt.ylabel('Distance (pixels)')\n",
    "plt.tight_layout()\n",
    "plt.axis('square')\n",
    "\n",
    "disp_and_comp()\n",
    "cnc = fig.canvas.mpl_connect('button_press_event', on_press)\n",
    "\n",
    "# BEGIN SOLUTION\n",
    "# to make nbgrader happy ...\n",
    "# END SOLUTION"
   ]
  }
 ],
 "metadata": {
  "hide_input": false,
  "kernelspec": {
   "display_name": "Python 3",
   "language": "python",
   "name": "python3"
  },
  "language_info": {
   "codemirror_mode": {
    "name": "ipython",
    "version": 3
   },
   "file_extension": ".py",
   "mimetype": "text/x-python",
   "name": "python",
   "nbconvert_exporter": "python",
   "pygments_lexer": "ipython3",
   "version": "3.7.6"
  },
  "toc": {
   "base_numbering": 1,
   "nav_menu": {},
   "number_sections": true,
   "sideBar": true,
   "skip_h1_title": false,
   "title_cell": "Table of Contents",
   "title_sidebar": "Contents",
   "toc_cell": false,
   "toc_position": {},
   "toc_section_display": true,
   "toc_window_display": false
  }
 },
 "nbformat": 4,
 "nbformat_minor": 5
}
