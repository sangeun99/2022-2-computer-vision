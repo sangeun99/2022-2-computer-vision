{
 "cells": [
  {
   "cell_type": "markdown",
   "metadata": {
    "deletable": false,
    "editable": false,
    "nbgrader": {
     "cell_type": "markdown",
     "checksum": "5d06a0567fc99aca4e7aab9e3569aae2",
     "grade": false,
     "grade_id": "h00",
     "locked": true,
     "schema_version": 3,
     "solution": false
    }
   },
   "source": [
    "Osnabrück University - Computer Vision (Winter Term 2022/23) - Prof. Dr.-Ing. G. Heidemann, Ulf Krumnack"
   ]
  },
  {
   "cell_type": "markdown",
   "metadata": {
    "deletable": false,
    "editable": false,
    "nbgrader": {
     "cell_type": "markdown",
     "checksum": "d77aac5dfa2bfabb78e09fac7921ebc0",
     "grade": false,
     "grade_id": "cell-fcc4a8f1ac6d5976",
     "locked": true,
     "schema_version": 3,
     "solution": false
    }
   },
   "source": [
    "# Exercise Sheet 07: Hough Transform/Fourier"
   ]
  },
  {
   "cell_type": "markdown",
   "metadata": {
    "deletable": false,
    "editable": false,
    "nbgrader": {
     "cell_type": "markdown",
     "checksum": "9d3f7159901a52f93bff13c96626bdc7",
     "grade": false,
     "grade_id": "cell-983153e0faf373b1",
     "locked": true,
     "schema_version": 3,
     "solution": false
    }
   },
   "source": [
    "## Introduction\n",
    "\n",
    "This week's sheet should be solved and handed in before the end of **Sunday, January 8, 2023**. If you need help (and Google and other resources were not enough), feel free to use the StudIP forum. Please upload your results to your group's Stud.IP folder."
   ]
  },
  {
   "cell_type": "markdown",
   "metadata": {
    "deletable": false,
    "editable": false,
    "nbgrader": {
     "cell_type": "markdown",
     "checksum": "f1bec892ecbc2181dcf6c739a5c96da3",
     "grade": false,
     "grade_id": "hough-impl",
     "locked": true,
     "schema_version": 3,
     "solution": false
    }
   },
   "source": [
    "## Assignment 1: Implementing Hough transform (6 points)"
   ]
  },
  {
   "cell_type": "code",
   "execution_count": null,
   "metadata": {},
   "outputs": [],
   "source": [
    "# Auxiliary functions for this exercise\n",
    "import numpy as np\n",
    "from skimage.transform import hough_line, resize\n",
    "\n",
    "steps = lambda p,q : max(map(lambda x,y: abs(x-y), p, q))+1\n",
    "coords = lambda p,q,s : tuple([np.linspace(x,y,s,dtype=np.uint16) for x,y in zip(p,q)])\n",
    "\n",
    "def point(img, p):\n",
    "    \"\"\"Insert a point in the black/white image at position p\n",
    "    \n",
    "    Args:\n",
    "        img (ndarray): Input image.\n",
    "        p (tuple): Coordinate of point.\n",
    "    \n",
    "    Returns:\n",
    "    \n",
    "    \"\"\"\n",
    "    img[p] = 1\n",
    "\n",
    "def line(img, p, q):\n",
    "    \"\"\"Insert a line from p to q in the black/white image\n",
    "    \n",
    "    Args:\n",
    "        img (ndarray): Input image.\n",
    "        p (tuple): Coordinate of start position.\n",
    "        q (tuple): Coordinate of end position.\n",
    "    \n",
    "    Returns:\n",
    "    \n",
    "    \"\"\"\n",
    "    img[coords(p,q,steps(p,q))] = 1\n",
    "\n",
    "def polygon(img, vertices):\n",
    "    \"\"\"Insert a (closed) polygon given by a list of points into the black/white image\n",
    "    \n",
    "    Args:\n",
    "        img (ndarray): Input image.\n",
    "        vertices (list): List of coordinate tuples.\n",
    "    \n",
    "    Returns:\n",
    "    \n",
    "    \"\"\"\n",
    "    for p, q in zip(vertices, vertices[1:]+vertices[0:1]):\n",
    "        line(img,p,q)"
   ]
  },
  {
   "cell_type": "markdown",
   "metadata": {
    "deletable": false,
    "editable": false,
    "nbgrader": {
     "cell_type": "markdown",
     "checksum": "8f9c483446fa35e55b028ba27258cd10",
     "grade": false,
     "grade_id": "hough-impl-q1",
     "locked": true,
     "schema_version": 3,
     "solution": false
    }
   },
   "source": [
    "**a)** Implement your own version of linear Hough transform and compare the results with the function `skimage.transform.hough_line`."
   ]
  },
  {
   "cell_type": "code",
   "execution_count": null,
   "metadata": {
    "deletable": false,
    "nbgrader": {
     "cell_type": "code",
     "checksum": "7b268f839cdcd18519da4213ee19cb6d",
     "grade": true,
     "grade_id": "cell-0855a82e8c3d47ce0",
     "locked": false,
     "points": 3,
     "schema_version": 3,
     "solution": true
    }
   },
   "outputs": [],
   "source": [
    "from skimage.transform import hough_line\n",
    "import matplotlib.pyplot as plt\n",
    "%matplotlib inline\n",
    "import numpy as np\n",
    "import warnings\n",
    "warnings.filterwarnings('ignore')\n",
    "\n",
    "def my_hough_line(img, angles=180):\n",
    "    \"\"\"\n",
    "    Apply linear Hough transform to the given image.\n",
    "    \n",
    "    Args:\n",
    "        img (numpy.ndarray): The binary image to transform\n",
    "        angles (int): The number of angles to consider.\n",
    "    Result:\n",
    "        accumulator (numpy.ndarray): The accumulator space.\n",
    "    \"\"\"\n",
    "    # YOUR CODE HERE\n",
    "    raise NotImplementedError()\n",
    "    return accumulator\n",
    "\n",
    "\n",
    "img = np.zeros((100,100))\n",
    "\n",
    "# You may try different paintings here:\n",
    "#point(img, (10,10))\n",
    "#line(img,(10,20),(70,20))\n",
    "polygon(img,[(20,10),(80,50),(80,80),(30,60)])\n",
    "\n",
    "\n",
    "fig, [ax1, ax2, ax3] = plt.subplots(1,3, figsize=(12,4))\n",
    "plt.gray()\n",
    "\n",
    "# original image\n",
    "ax1.set_title('Image'); \n",
    "ax1.imshow(img, origin = 'lower')\n",
    "\n",
    "# skimage\n",
    "out, angles, d = hough_line(img)\n",
    "\n",
    "out_resized = resize(out, (out.shape[0], out.shape[0]), anti_aliasing=True, preserve_range=True)\n",
    "ax2.set_title('Hough transform (skimage)');\n",
    "ax2.set_xlabel('Angles (degrees)')\n",
    "ax2.set_ylabel('Distance (pixels)')\n",
    "ax2.imshow(np.log(1 + out_resized), origin = 'lower', cmap='gray')\n",
    "ax2.set_yticks(np.linspace(0, out.shape[0], 7))\n",
    "ax2.set_yticklabels((-1 * np.linspace(d[-1], d[0], 7)).astype(int))\n",
    "ax2.set_xticks(np.linspace(0, out.shape[0], 5))\n",
    "ax2.set_xticklabels(np.linspace(np.rad2deg(angles[0]), np.rad2deg(angles[-1]), 5).astype(int))\n",
    "\n",
    "# own implementation\n",
    "my_out = my_hough_line(img)\n",
    "\n",
    "my_out_resized = resize(out, (out.shape[0], out.shape[0]), anti_aliasing=True, preserve_range=True)\n",
    "ax3.set_title('Hough transform (own implementation)');\n",
    "ax3.set_xlabel('Angles (degrees)')\n",
    "ax3.set_ylabel('Distance (pixels)')\n",
    "ax3.imshow(np.log(1 + my_out_resized), origin = 'lower', cmap='gray')\n",
    "ax3.set_yticks(np.linspace(0, out.shape[0], 7))\n",
    "ax3.set_yticklabels((-1 * np.linspace(d[-1], d[0], 7)).astype(int))\n",
    "ax3.set_xticks(np.linspace(0, out.shape[0], 5))\n",
    "ax3.set_xticklabels(np.linspace(np.rad2deg(angles[0]), np.rad2deg(angles[-1]), 5).astype(int))\n",
    "\n",
    "plt.show()"
   ]
  },
  {
   "cell_type": "markdown",
   "metadata": {
    "deletable": false,
    "editable": false,
    "nbgrader": {
     "cell_type": "markdown",
     "checksum": "b8898aa54fa54dd8e2457eb35a842b83",
     "grade": false,
     "grade_id": "hough-impl-q2",
     "locked": true,
     "schema_version": 3,
     "solution": false
    }
   },
   "source": [
    "**b)** Under which conditions is (linear) Hough transform invertible? Try to implement an inverse linear Hough transform. \n",
    "\n",
    "You could create a line for each point in accumulator space by doing the following: Compute angle and distance of the line represented by the current point in accumulator space. Add the value of this point to all image pixels which belong to the corresponding line. Finally you could threshold the image. \n",
    "\n",
    "However, other solution are feasible, too.\n"
   ]
  },
  {
   "cell_type": "markdown",
   "metadata": {
    "deletable": false,
    "nbgrader": {
     "cell_type": "markdown",
     "checksum": "55cdbeb991d4c8ba9fb4c53f96b6f105",
     "grade": true,
     "grade_id": "cell-c46015b155439644",
     "locked": false,
     "points": 1,
     "schema_version": 3,
     "solution": true
    },
    "solution": true
   },
   "source": [
    "YOUR ANSWER HERE"
   ]
  },
  {
   "cell_type": "code",
   "execution_count": null,
   "metadata": {
    "deletable": false,
    "nbgrader": {
     "cell_type": "code",
     "checksum": "3ab03c1c1e75897684866e1c2c6e2da8",
     "grade": true,
     "grade_id": "cell-833ce3476f9c1a27",
     "locked": false,
     "points": 3,
     "schema_version": 3,
     "solution": true
    }
   },
   "outputs": [],
   "source": [
    "%matplotlib inline \n",
    "from skimage.transform import hough_line\n",
    "import matplotlib.pyplot as plt\n",
    "import numpy as np\n",
    "\n",
    "# YOUR CODE HERE\n",
    "raise NotImplementedError()\n",
    "\n",
    "def my_inverse_hough_line(accumulator, shape):\n",
    "    \"\"\"Compute an inverse Hough transform, i.e. compute the image from the accumulator space.\n",
    "    \n",
    "    Args:\n",
    "        accumulator (numpy.ndarray)\n",
    "        shape (tuple): The shape (dimensions) of the image to be created\n",
    "\n",
    "    Result:\n",
    "        img (numpy.ndarray): The image created from the accumulator space.\n",
    "    \"\"\"\n",
    "    img = np.zeros(shape, np.uint64)\n",
    "    \n",
    "    # YOUR CODE HERE\n",
    "    raise NotImplementedError()\n",
    "    return img\n",
    "\n",
    "img = np.zeros((100,100))\n",
    "\n",
    "#point(img, (10,10))\n",
    "#line(img,(10,20),(70,20))\n",
    "#line(img,(20,10),(20,70))\n",
    "polygon(img,[(10,30),(50,50),(10,70)])\n",
    "\n",
    "plt.figure(figsize=(12, 4))\n",
    "plt.gray()\n",
    "plt.subplot(1,3,1) ; plt.title('Image'); plt.imshow(img, origin = 'lower')\n",
    "\n",
    "out, angles, d = hough_line(img)\n",
    "out_resized = resize(out, (out.shape[0], out.shape[0]), anti_aliasing=True, preserve_range=True)\n",
    "ax = plt.subplot(1,3,2) ; plt.title('Hough transform (skimage)');\n",
    "ax.set_title('Hough transform (skimage)');\n",
    "ax.set_xlabel('Angles (degrees)')\n",
    "ax.set_ylabel('Distance (pixels)')\n",
    "ax.imshow(np.log(1 + out_resized), origin = 'lower', cmap='gray')\n",
    "ax.set_yticks(np.linspace(0, out.shape[0], 7))\n",
    "ax.set_yticklabels((-1 * np.linspace(d[-1], d[0], 7)).astype(int))\n",
    "ax.set_xticks(np.linspace(0, out.shape[0], 5))\n",
    "ax.set_xticklabels(np.linspace(np.rad2deg(angles[0]), np.rad2deg(angles[-1]), 5).astype(int))\n",
    "\n",
    "img2 = my_inverse_hough_line(out, img.shape)\n",
    "plt.subplot(1,3,3) ; plt.title('Inverse Hough transform');\n",
    "plt.imshow(img2, origin = 'lower')\n",
    "plt.show()"
   ]
  },
  {
   "cell_type": "markdown",
   "metadata": {
    "deletable": false,
    "editable": false,
    "nbgrader": {
     "cell_type": "markdown",
     "checksum": "d31ccc863cf7681f6681fb03e66e3226",
     "grade": false,
     "grade_id": "cell-363c7fb6b5097e1e",
     "locked": true,
     "schema_version": 3,
     "solution": false
    }
   },
   "source": [
    "## Assignment 2: Circular Hough (5 points)"
   ]
  },
  {
   "cell_type": "markdown",
   "metadata": {
    "deletable": false,
    "editable": false,
    "nbgrader": {
     "cell_type": "markdown",
     "checksum": "cd40e61149ec63287435d5488f453cc0",
     "grade": false,
     "grade_id": "hough-circular-q1",
     "locked": true,
     "schema_version": 3,
     "solution": false
    }
   },
   "source": [
    "**a)** Explain the idea of circular Hough transform. How many dimensions does the accumulator space have and what do they represent? What practical problems do you expect when computing circular Hough transform?"
   ]
  },
  {
   "cell_type": "markdown",
   "metadata": {
    "deletable": false,
    "nbgrader": {
     "cell_type": "markdown",
     "checksum": "28ff5557e61568ff55a1bc914553deb6",
     "grade": true,
     "grade_id": "hough-circular-a1",
     "locked": false,
     "points": 2,
     "schema_version": 3,
     "solution": true
    },
    "solution": true
   },
   "source": [
    "YOUR ANSWER HERE"
   ]
  },
  {
   "cell_type": "markdown",
   "metadata": {
    "deletable": false,
    "editable": false,
    "nbgrader": {
     "cell_type": "markdown",
     "checksum": "f081e38bf3ce1611f4f936153ed4492c",
     "grade": false,
     "grade_id": "hough-circular-q2",
     "locked": true,
     "schema_version": 3,
     "solution": false
    }
   },
   "source": [
    "**b)** Now implement circular hough transform. First think how the accumulator space should be represented. You may provide an additional parameter to only look for circles of a given radius (or a range of radii). Then apply it to the image `xmas.png` to detect the balls. Mark them in the original image. (Bonus task: also detect the presents using linear Hough transform)."
   ]
  },
  {
   "cell_type": "code",
   "execution_count": null,
   "metadata": {
    "deletable": false,
    "nbgrader": {
     "cell_type": "code",
     "checksum": "ceb796e0b328c617842bf1f4859f78eb",
     "grade": true,
     "grade_id": "hough-circular-a23",
     "locked": false,
     "points": 3,
     "schema_version": 3,
     "solution": true
    }
   },
   "outputs": [],
   "source": [
    "%matplotlib inline\n",
    "from skimage.transform import hough_line\n",
    "from scipy import misc\n",
    "from imageio.v2 import imread\n",
    "import matplotlib.pyplot as plt\n",
    "import numpy as np\n",
    "\n",
    "# load the image\n",
    "img = imread('images/xmas.png')\n",
    "\n",
    "# YOUR CODE HERE\n",
    "raise NotImplementedError()"
   ]
  },
  {
   "cell_type": "markdown",
   "metadata": {
    "deletable": false,
    "editable": false,
    "nbgrader": {
     "cell_type": "markdown",
     "checksum": "c0141fa2708b2430c7b8ccccb7483b16",
     "grade": false,
     "grade_id": "cell-55e58490fba98d34",
     "locked": true,
     "schema_version": 3,
     "solution": false
    }
   },
   "source": [
    "## Assignment 3: Application: Eye detection (5 points)"
   ]
  },
  {
   "cell_type": "markdown",
   "metadata": {
    "deletable": false,
    "editable": false,
    "nbgrader": {
     "cell_type": "markdown",
     "checksum": "35750da869f0f995f067b1f25b2ee671",
     "grade": false,
     "grade_id": "hough-circular-q4",
     "locked": true,
     "schema_version": 3,
     "solution": false
    }
   },
   "source": [
    "**a)** It was suggested in the lecture, that circular Hough transform can be used to implement a simple\n",
    "form of “eye tracking”. Try this using your webcam.\n",
    "\n",
    "Hints:\n",
    "* You may start with a single snapshot (or some other image of a face from wherever you like) before applying your function to a video stream.\n",
    "* You may start using functions like `hough_circle` from `skimage.transform`, which implement circular Hough transform.\n",
    "* You may try to apply some preprocessing to detect edges or regions prior to Hough transform (you may use anything you know from the lecture).\n",
    "* `hough_circle` may be inappropriate, as it is designed to detect full circles, while eyes are often partially occluded. You may implement your own Hough transforms, which detects this kind of incomplete circles.\n",
    "* You may apply additional knowledge to detect eyes, e.g. that they usually occur in pairs. You may also use the approximate size and position from last frame."
   ]
  },
  {
   "cell_type": "code",
   "execution_count": null,
   "metadata": {
    "deletable": false,
    "nbgrader": {
     "cell_type": "code",
     "checksum": "1c32b32a950335f47cad718a1ce9e1d5",
     "grade": true,
     "grade_id": "hough-circular-a4",
     "locked": false,
     "points": 5,
     "schema_version": 3,
     "solution": true
    }
   },
   "outputs": [],
   "source": [
    "# imageio\n",
    "%matplotlib notebook\n",
    "from IPython.display import display, HTML\n",
    "import matplotlib.pyplot as plt\n",
    "import imageio\n",
    "import numpy as np\n",
    "from skimage.filters import gaussian\n",
    "from skimage.feature import canny\n",
    "from skimage.color import rgb2gray\n",
    "from skimage.transform import hough_circle, hough_circle_peaks\n",
    "from skimage.draw import circle_perimeter\n",
    "\n",
    "    \n",
    "def detect_eyes(img):\n",
    "    \"\"\"Find and mark eyes in image.\n",
    "    \n",
    "    Args:\n",
    "        img (ndarray): The RGB input image to detect the eyes in. shape=(h, w, 3)\n",
    "        \n",
    "    Returns:\n",
    "        ndarray: The image with detected eyes highlighted.\n",
    "    \n",
    "    \"\"\"\n",
    "    # YOUR CODE HERE\n",
    "    raise NotImplementedError()\n",
    "\n",
    "# aquire some image a img\n",
    "# YOUR CODE HERE\n",
    "raise NotImplementedError()\n",
    "\n",
    "# display eyes detected in that image\n",
    "plt.figure()\n",
    "plt.imshow(detect_eyes(img))\n",
    "plt.show()"
   ]
  },
  {
   "cell_type": "code",
   "execution_count": null,
   "metadata": {},
   "outputs": [],
   "source": [
    "# Accessing the webcam with imageio\n",
    "import imageio.v2 as imageio\n",
    "\n",
    "try:\n",
    "    display(HTML(\"press <kbd>I</kbd>, <kbd>I</kbd> (Kernel Interrupt) to stop the demo!\"))\n",
    "    with imageio.get_reader('<video0>') as webcam:\n",
    "        fig = plt.figure(figsize=(8,6))\n",
    "        mpl_image = plt.imshow(webcam.get_next_data())\n",
    "\n",
    "        while True:\n",
    "            img = webcam.get_next_data()\n",
    "            mpl_image.set_data(detect_eyes(img))\n",
    "            fig.canvas.draw()\n",
    "except KeyboardInterrupt:\n",
    "    print(\"Interrupted\")\n",
    "finally:\n",
    "    webcam.close()\n",
    "    plt.close(fig)\n",
    "    print(\"Camera was closed.\")"
   ]
  },
  {
   "cell_type": "code",
   "execution_count": null,
   "metadata": {},
   "outputs": [],
   "source": [
    "# Accessing the webcam with OpenCV\n",
    "import cv2\n",
    "\n",
    "try:\n",
    "    display(HTML(\"press <kbd>I</kbd>, <kbd>I</kbd> (Kernel Interrupt) to stop the demo!\"))\n",
    "    webcam = cv2.VideoCapture(0)\n",
    "    success, frame_bgr = webcam.read()\n",
    "    if not success:\n",
    "        raise RuntimeError(\"Error accessing webcam\")\n",
    "    fig = plt.figure(figsize=(8,6))\n",
    "    mpl_image = plt.imshow(cv2.cvtColor(frame_bgr, cv2.COLOR_BGR2RGB))\n",
    "\n",
    "    while True:\n",
    "        success, frame_bgr = webcam.read()\n",
    "        if not success:\n",
    "            raise RuntimeError(\"Error accessing webcam\")\n",
    "        img = cv2.cvtColor(frame_bgr, cv2.COLOR_BGR2RGB)\n",
    "        mpl_image.set_data(detect_eyes(img))\n",
    "        fig.canvas.draw()\n",
    "        \n",
    "except KeyboardInterrupt:\n",
    "    print(\"Interrupted\")\n",
    "finally:\n",
    "    webcam.release()\n",
    "    plt.close(fig)\n",
    "    print(\"Camera was closed.\")"
   ]
  },
  {
   "cell_type": "markdown",
   "metadata": {
    "deletable": false,
    "editable": false,
    "nbgrader": {
     "cell_type": "markdown",
     "checksum": "df1d5b5f3635cb1d7f05d400ef81b623",
     "grade": false,
     "grade_id": "cell-4d249ca7d09992a3",
     "locked": true,
     "schema_version": 3,
     "solution": false,
     "task": false
    }
   },
   "source": [
    "## Assignment 4: Fourier Transform Basics (4 points)"
   ]
  },
  {
   "cell_type": "markdown",
   "metadata": {
    "deletable": false,
    "editable": false,
    "nbgrader": {
     "cell_type": "markdown",
     "checksum": "e98db95d2afb0e66a56693f4a4f5d04f",
     "grade": false,
     "grade_id": "cell-6c9b789fb245e56e",
     "locked": true,
     "schema_version": 3,
     "solution": false,
     "task": false
    }
   },
   "source": [
    "**(a)** There are several \"versions\" of Fourier transform mentioned on the lecture slides:\n",
    "* transformation of periodic function vs. aperiodic functions\n",
    "* transformation of continuous vs. discrete functions\n",
    "* real vs. complex basis functions\n",
    "* different scaling factor \n",
    "* 1D and 2D transformation\n",
    "\n",
    "How do these different versions affect the formula for Fourier transform? What version of Fourier transform is relevant in the context of Computer Vision?"
   ]
  },
  {
   "cell_type": "markdown",
   "metadata": {
    "deletable": false,
    "nbgrader": {
     "cell_type": "markdown",
     "checksum": "2afc5be9cb38ee316a3c3ce9a6b97aba",
     "grade": true,
     "grade_id": "cell-961cf610dd711a1f",
     "locked": false,
     "points": 2,
     "schema_version": 3,
     "solution": true,
     "task": false
    }
   },
   "source": [
    "YOUR ANSWER HERE"
   ]
  },
  {
   "cell_type": "markdown",
   "metadata": {
    "deletable": false,
    "editable": false,
    "nbgrader": {
     "cell_type": "markdown",
     "checksum": "c227c58e2a4a38cf61422c777b439332",
     "grade": false,
     "grade_id": "cell-49d777ea271c024f",
     "locked": true,
     "schema_version": 3,
     "solution": false,
     "task": false
    }
   },
   "source": [
    "**(b)** The basis function for Fourier transform in Computer Vision can be considered as images. How do they look like? How many such basis images exist? Provide code to plot basis images for an image of shape `(100, 100)`.\n",
    "\n",
    "\n"
   ]
  },
  {
   "cell_type": "markdown",
   "metadata": {
    "deletable": false,
    "nbgrader": {
     "cell_type": "markdown",
     "checksum": "0d31dd886a5a64c723d6f5dc96325ce7",
     "grade": true,
     "grade_id": "cell-a4f801276362aea7",
     "locked": false,
     "points": 1,
     "schema_version": 3,
     "solution": true,
     "task": false
    }
   },
   "source": [
    "If only one pixel in the image is 1-pixel and the others are 0-pixel, the image is basis image. So we can count it with the number of pixel. M * N image will have M * N basis images."
   ]
  },
  {
   "cell_type": "code",
   "execution_count": 9,
   "metadata": {
    "deletable": false,
    "nbgrader": {
     "cell_type": "code",
     "checksum": "67d5a6f8524d409b9277a1d493a0dd52",
     "grade": true,
     "grade_id": "cell-7f5a8bddaa4ce2eb",
     "locked": false,
     "points": 1,
     "schema_version": 3,
     "solution": true,
     "task": false
    }
   },
   "outputs": [],
   "source": [
    "%matplotlib inline\n",
    "import numpy as np\n",
    "import matplotlib.pyplot as plt\n",
    "\n",
    "shape = (100,100)\n",
    "# YOUR CODE HERE\n",
    "count = 0\n",
    "for i in range(shape[0]) :\n",
    "    for j in range(shape[1]) :\n",
    "        count += 1"
   ]
  }
 ],
 "metadata": {
  "hide_input": false,
  "kernelspec": {
   "display_name": "Python 3",
   "language": "python",
   "name": "python3"
  },
  "language_info": {
   "codemirror_mode": {
    "name": "ipython",
    "version": 3
   },
   "file_extension": ".py",
   "mimetype": "text/x-python",
   "name": "python",
   "nbconvert_exporter": "python",
   "pygments_lexer": "ipython3",
   "version": "3.7.6"
  },
  "toc": {
   "base_numbering": 1,
   "nav_menu": {},
   "number_sections": true,
   "sideBar": true,
   "skip_h1_title": false,
   "title_cell": "Table of Contents",
   "title_sidebar": "Contents",
   "toc_cell": false,
   "toc_position": {},
   "toc_section_display": true,
   "toc_window_display": false
  }
 },
 "nbformat": 4,
 "nbformat_minor": 5
}
