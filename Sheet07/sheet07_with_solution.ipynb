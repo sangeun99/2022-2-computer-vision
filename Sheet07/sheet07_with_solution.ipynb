{
 "cells": [
  {
   "cell_type": "markdown",
   "metadata": {
    "nbgrader": {
     "grade": false,
     "grade_id": "h00",
     "locked": true,
     "schema_version": 3,
     "solution": false
    }
   },
   "source": [
    "Osnabrück University - Computer Vision (Winter Term 2022/23) - Prof. Dr.-Ing. G. Heidemann, Ulf Krumnack"
   ]
  },
  {
   "cell_type": "markdown",
   "metadata": {
    "nbgrader": {
     "grade": false,
     "grade_id": "cell-fcc4a8f1ac6d5976",
     "locked": true,
     "schema_version": 3,
     "solution": false
    }
   },
   "source": [
    "# Exercise Sheet 07: Hough Transform/Fourier"
   ]
  },
  {
   "cell_type": "markdown",
   "metadata": {
    "nbgrader": {
     "grade": false,
     "grade_id": "cell-983153e0faf373b1",
     "locked": true,
     "schema_version": 3,
     "solution": false
    }
   },
   "source": [
    "## Introduction\n",
    "\n",
    "This week's sheet should be solved and handed in before the end of **Sunday, January 8, 2023**. If you need help (and Google and other resources were not enough), feel free to use the StudIP forum. Please upload your results to your group's Stud.IP folder."
   ]
  },
  {
   "cell_type": "markdown",
   "metadata": {
    "nbgrader": {
     "grade": false,
     "grade_id": "hough-impl",
     "locked": true,
     "schema_version": 3,
     "solution": false
    }
   },
   "source": [
    "## Assignment 1: Implementing Hough transform (6 points)"
   ]
  },
  {
   "cell_type": "code",
   "execution_count": null,
   "metadata": {},
   "outputs": [],
   "source": [
    "# Auxiliary functions for this exercise\n",
    "import numpy as np\n",
    "from skimage.transform import hough_line, resize\n",
    "\n",
    "steps = lambda p,q : max(map(lambda x,y: abs(x-y), p, q))+1\n",
    "coords = lambda p,q,s : tuple([np.linspace(x,y,s,dtype=np.uint16) for x,y in zip(p,q)])\n",
    "\n",
    "def point(img, p):\n",
    "    \"\"\"Insert a point in the black/white image at position p\n",
    "    \n",
    "    Args:\n",
    "        img (ndarray): Input image.\n",
    "        p (tuple): Coordinate of point.\n",
    "    \n",
    "    Returns:\n",
    "    \n",
    "    \"\"\"\n",
    "    img[p] = 1\n",
    "\n",
    "def line(img, p, q):\n",
    "    \"\"\"Insert a line from p to q in the black/white image\n",
    "    \n",
    "    Args:\n",
    "        img (ndarray): Input image.\n",
    "        p (tuple): Coordinate of start position.\n",
    "        q (tuple): Coordinate of end position.\n",
    "    \n",
    "    Returns:\n",
    "    \n",
    "    \"\"\"\n",
    "    img[coords(p,q,steps(p,q))] = 1\n",
    "\n",
    "def polygon(img, vertices):\n",
    "    \"\"\"Insert a (closed) polygon given by a list of points into the black/white image\n",
    "    \n",
    "    Args:\n",
    "        img (ndarray): Input image.\n",
    "        vertices (list): List of coordinate tuples.\n",
    "    \n",
    "    Returns:\n",
    "    \n",
    "    \"\"\"\n",
    "    for p, q in zip(vertices, vertices[1:]+vertices[0:1]):\n",
    "        line(img,p,q)"
   ]
  },
  {
   "cell_type": "markdown",
   "metadata": {
    "nbgrader": {
     "grade": false,
     "grade_id": "hough-impl-q1",
     "locked": true,
     "schema_version": 3,
     "solution": false
    }
   },
   "source": [
    "**a)** Implement your own version of linear Hough transform and compare the results with the function `skimage.transform.hough_line`."
   ]
  },
  {
   "cell_type": "code",
   "execution_count": null,
   "metadata": {
    "nbgrader": {
     "grade": true,
     "grade_id": "cell-0855a82e8c3d47ce0",
     "locked": false,
     "points": 3,
     "schema_version": 3,
     "solution": true
    }
   },
   "outputs": [],
   "source": [
    "from skimage.transform import hough_line\n",
    "import matplotlib.pyplot as plt\n",
    "%matplotlib inline\n",
    "import numpy as np\n",
    "import warnings\n",
    "warnings.filterwarnings('ignore')\n",
    "\n",
    "def my_hough_line(img, angles=180):\n",
    "    \"\"\"\n",
    "    Apply linear Hough transform to the given image.\n",
    "    \n",
    "    Args:\n",
    "        img (numpy.ndarray): The binary image to transform\n",
    "        angles (int): The number of angles to consider.\n",
    "    Result:\n",
    "        accumulator (numpy.ndarray): The accumulator space.\n",
    "    \"\"\"\n",
    "    # BEGIN SOLUTION\n",
    "    # Calculate maximal length in the array.\n",
    "    d_max = int(np.ceil(np.linalg.norm(img.shape)))\n",
    "    # Initialize accumulator space.\n",
    "    accumulator = np.zeros((2 * d_max, angles), dtype=np.uint64)\n",
    "    # Create array for all angles we want to look at.\n",
    "    theta = np.arange(angles, dtype='int')\n",
    "    # Convert degrees to radiants.\n",
    "    theta_radiant = np.deg2rad(theta)\n",
    "    # For each white pixel in the image, \n",
    "    # calculate the distance to the origin \n",
    "    # and increment accumulator space for the distance and all angles.\n",
    "    for r, c in np.argwhere(img):\n",
    "        d = np.floor(c * np.cos(theta_radiant) + r * np.sin(theta_radiant))\n",
    "        d = d.astype(int)\n",
    "        accumulator[d + d_max, theta] += 1\n",
    "    # END SOLUTION\n",
    "    return accumulator\n",
    "\n",
    "\n",
    "img = np.zeros((100,100))\n",
    "\n",
    "# You may try different paintings here:\n",
    "#point(img, (10,10))\n",
    "#line(img,(10,20),(70,20))\n",
    "polygon(img,[(20,10),(80,50),(80,80),(30,60)])\n",
    "\n",
    "\n",
    "fig, [ax1, ax2, ax3] = plt.subplots(1,3, figsize=(12,4))\n",
    "plt.gray()\n",
    "\n",
    "# original image\n",
    "ax1.set_title('Image'); \n",
    "ax1.imshow(img, origin = 'lower')\n",
    "\n",
    "# skimage\n",
    "out, angles, d = hough_line(img)\n",
    "\n",
    "out_resized = resize(out, (out.shape[0], out.shape[0]), anti_aliasing=True, preserve_range=True)\n",
    "ax2.set_title('Hough transform (skimage)');\n",
    "ax2.set_xlabel('Angles (degrees)')\n",
    "ax2.set_ylabel('Distance (pixels)')\n",
    "ax2.imshow(np.log(1 + out_resized), origin = 'lower', cmap='gray')\n",
    "ax2.set_yticks(np.linspace(0, out.shape[0], 7))\n",
    "ax2.set_yticklabels((-1 * np.linspace(d[-1], d[0], 7)).astype(int))\n",
    "ax2.set_xticks(np.linspace(0, out.shape[0], 5))\n",
    "ax2.set_xticklabels(np.linspace(np.rad2deg(angles[0]), np.rad2deg(angles[-1]), 5).astype(int))\n",
    "\n",
    "# own implementation\n",
    "my_out = my_hough_line(img)\n",
    "\n",
    "my_out_resized = resize(out, (out.shape[0], out.shape[0]), anti_aliasing=True, preserve_range=True)\n",
    "ax3.set_title('Hough transform (own implementation)');\n",
    "ax3.set_xlabel('Angles (degrees)')\n",
    "ax3.set_ylabel('Distance (pixels)')\n",
    "ax3.imshow(np.log(1 + my_out_resized), origin = 'lower', cmap='gray')\n",
    "ax3.set_yticks(np.linspace(0, out.shape[0], 7))\n",
    "ax3.set_yticklabels((-1 * np.linspace(d[-1], d[0], 7)).astype(int))\n",
    "ax3.set_xticks(np.linspace(0, out.shape[0], 5))\n",
    "ax3.set_xticklabels(np.linspace(np.rad2deg(angles[0]), np.rad2deg(angles[-1]), 5).astype(int))\n",
    "\n",
    "plt.show()"
   ]
  },
  {
   "cell_type": "markdown",
   "metadata": {
    "nbgrader": {
     "grade": false,
     "grade_id": "hough-impl-q2",
     "locked": true,
     "schema_version": 3,
     "solution": false
    }
   },
   "source": [
    "**b)** Under which conditions is (linear) Hough transform invertible? Try to implement an inverse linear Hough transform. \n",
    "\n",
    "You could create a line for each point in accumulator space by doing the following: Compute angle and distance of the line represented by the current point in accumulator space. Add the value of this point to all image pixels which belong to the corresponding line. Finally you could threshold the image. \n",
    "\n",
    "However, other solution are feasible, too.\n"
   ]
  },
  {
   "cell_type": "markdown",
   "metadata": {
    "nbgrader": {
     "grade": true,
     "grade_id": "cell-c46015b155439644",
     "locked": false,
     "points": 1,
     "schema_version": 3,
     "solution": true
    },
    "solution": true
   },
   "source": [
    "A point in the Hough space (accumulator space) can be seen as an indicator for a line in the original space. To invert the Hough transform, one has to accumulate these indicators, i.e. lines in the pixel space. An exact inversion will usually not be possible, due to discretization effects."
   ]
  },
  {
   "cell_type": "code",
   "execution_count": null,
   "metadata": {
    "nbgrader": {
     "grade": true,
     "grade_id": "cell-833ce3476f9c1a27",
     "locked": false,
     "points": 3,
     "schema_version": 3,
     "solution": true
    }
   },
   "outputs": [],
   "source": [
    "%matplotlib inline \n",
    "from skimage.transform import hough_line\n",
    "import matplotlib.pyplot as plt\n",
    "import numpy as np\n",
    "\n",
    "# BEGIN SOLUTION\n",
    "def my_line(img, distance, angle, value=1):\n",
    "    \"\"\"Draw a line provided in Hesse form, i.e. by normal angle and distance.\n",
    "    Not very efficient, but simple.\n",
    "    \n",
    "    Args:\n",
    "        img (numpy.ndarray): An image where the line should be added\n",
    "        distance (float): The distance from the origin\n",
    "        angle (float): The angle of the line\n",
    "        value (int): The strength of the line\n",
    "    \"\"\"\n",
    "    s = np.sin(angle)\n",
    "    c = np.cos(angle)\n",
    "    if abs(c) > abs(s):\n",
    "        x0 = distance/c\n",
    "        for y in range(img.shape[0]):\n",
    "            x = int(np.round(x0 - y*s/c))\n",
    "            if x >= 0 and x < img.shape[1]:\n",
    "                img[y,x] += value\n",
    "    else:\n",
    "        y0 = distance/s\n",
    "        for x in range(img.shape[1]):\n",
    "            y = int(np.round(y0 - x*c/s))\n",
    "            if y >= 0 and y < img.shape[0]:\n",
    "                img[y,x] += value\n",
    "# END SOLUTION\n",
    "\n",
    "def my_inverse_hough_line(accumulator, shape):\n",
    "    \"\"\"Compute an inverse Hough transform, i.e. compute the image from the accumulator space.\n",
    "    \n",
    "    Args:\n",
    "        accumulator (numpy.ndarray)\n",
    "        shape (tuple): The shape (dimensions) of the image to be created\n",
    "\n",
    "    Result:\n",
    "        img (numpy.ndarray): The image created from the accumulator space.\n",
    "    \"\"\"\n",
    "    img = np.zeros(shape, np.uint64)\n",
    "    \n",
    "    # BEGIN SOLUTION    \n",
    "    for d,a in np.argwhere(accumulator):\n",
    "        val = accumulator[d,a]\n",
    "        distance = d-accumulator.shape[0]//2\n",
    "        angle = (a/accumulator.shape[1] - .5) * np.pi\n",
    "        my_line(img,distance,angle,val)\n",
    "    # END SOLUTION\n",
    "    return img\n",
    "\n",
    "img = np.zeros((100,100))\n",
    "\n",
    "#point(img, (10,10))\n",
    "#line(img,(10,20),(70,20))\n",
    "#line(img,(20,10),(20,70))\n",
    "polygon(img,[(10,30),(50,50),(10,70)])\n",
    "\n",
    "plt.figure(figsize=(12, 4))\n",
    "plt.gray()\n",
    "plt.subplot(1,3,1) ; plt.title('Image'); plt.imshow(img, origin = 'lower')\n",
    "\n",
    "out, angles, d = hough_line(img)\n",
    "out_resized = resize(out, (out.shape[0], out.shape[0]), anti_aliasing=True, preserve_range=True)\n",
    "ax = plt.subplot(1,3,2) ; plt.title('Hough transform (skimage)');\n",
    "ax.set_title('Hough transform (skimage)');\n",
    "ax.set_xlabel('Angles (degrees)')\n",
    "ax.set_ylabel('Distance (pixels)')\n",
    "ax.imshow(np.log(1 + out_resized), origin = 'lower', cmap='gray')\n",
    "ax.set_yticks(np.linspace(0, out.shape[0], 7))\n",
    "ax.set_yticklabels((-1 * np.linspace(d[-1], d[0], 7)).astype(int))\n",
    "ax.set_xticks(np.linspace(0, out.shape[0], 5))\n",
    "ax.set_xticklabels(np.linspace(np.rad2deg(angles[0]), np.rad2deg(angles[-1]), 5).astype(int))\n",
    "\n",
    "img2 = my_inverse_hough_line(out, img.shape)\n",
    "plt.subplot(1,3,3) ; plt.title('Inverse Hough transform');\n",
    "plt.imshow(img2, origin = 'lower')\n",
    "plt.show()"
   ]
  },
  {
   "cell_type": "markdown",
   "metadata": {
    "nbgrader": {
     "grade": false,
     "grade_id": "cell-363c7fb6b5097e1e",
     "locked": true,
     "schema_version": 3,
     "solution": false
    }
   },
   "source": [
    "## Assignment 2: Circular Hough (5 points)"
   ]
  },
  {
   "cell_type": "markdown",
   "metadata": {
    "nbgrader": {
     "grade": false,
     "grade_id": "hough-circular-q1",
     "locked": true,
     "schema_version": 3,
     "solution": false
    }
   },
   "source": [
    "**a)** Explain the idea of circular Hough transform. How many dimensions does the accumulator space have and what do they represent? What practical problems do you expect when computing circular Hough transform?"
   ]
  },
  {
   "cell_type": "markdown",
   "metadata": {
    "nbgrader": {
     "grade": true,
     "grade_id": "hough-circular-a1",
     "locked": false,
     "points": 2,
     "schema_version": 3,
     "solution": true
    },
    "solution": true
   },
   "source": [
    "The accumulator space has three dimensions $x_c$, $y_c$, and $r$, with $x_c$ and $y_c$ spanning the image plan and $r$ being the radius. In practice circles of a fixed radius are searched, limiting the accumulator space to the image plane.\n",
    "\n",
    "Not limiting the search to a fixed radius would make circular Hough transform computational complex: For each edge pixel the counters along all circles which are centered at this pixel need to be incremented."
   ]
  },
  {
   "cell_type": "markdown",
   "metadata": {
    "nbgrader": {
     "grade": false,
     "grade_id": "hough-circular-q2",
     "locked": true,
     "schema_version": 3,
     "solution": false
    }
   },
   "source": [
    "**b)** Now implement circular hough transform. First think how the accumulator space should be represented. You may provide an additional parameter to only look for circles of a given radius (or a range of radii). Then apply it to the image `xmas.png` to detect the balls. Mark them in the original image. (Bonus task: also detect the presents using linear Hough transform)."
   ]
  },
  {
   "cell_type": "code",
   "execution_count": null,
   "metadata": {
    "nbgrader": {
     "grade": true,
     "grade_id": "hough-circular-a23",
     "locked": false,
     "points": 3,
     "schema_version": 3,
     "solution": true
    }
   },
   "outputs": [],
   "source": [
    "%matplotlib inline\n",
    "from skimage.transform import hough_line\n",
    "from scipy import misc\n",
    "from imageio.v2 import imread\n",
    "import matplotlib.pyplot as plt\n",
    "import numpy as np\n",
    "\n",
    "# load the image\n",
    "img = imread('images/xmas.png')\n",
    "\n",
    "# BEGIN SOLUTION\n",
    "\n",
    "# The radii of circles to be detected by the hough transform\n",
    "radii = range(5, 15)\n",
    "\n",
    "# xx and yy are 200x200 tables containing the x and y coordinates as values\n",
    "# mgrid is a mesh creation helper\n",
    "xx, yy = np.mgrid[:200, :200]\n",
    "# circles contains the squared distance to the (100, 100) point\n",
    "# we are just using the circle equation learnt at school\n",
    "d2 = (xx - 100)**2 + (yy - 100)**2\n",
    "\n",
    "# create circle shapes\n",
    "circles = []\n",
    "for r in radii:\n",
    "    circle = (d2 < ((r + 1)**2)) & (d2 > ((r - 1)**2))\n",
    "    circles.append(circle[100 - r - 1:100 + r + 1, 100 - r - 1:100 + r + 1])\n",
    "\n",
    "\n",
    "# simple implementation:\n",
    "def add_mask1(space, circle, x, y):\n",
    "    \"\"\"\n",
    "    Add a given mask (circle) to the accumulator space.\n",
    "    \n",
    "    Args: \n",
    "        space (ndarray): Accumulator space.\n",
    "        circle (tuple)\n",
    "        x (uint): Coordinate.\n",
    "        y (uint): Coordinate.\n",
    "    \"\"\"\n",
    "    x -= circle.shape[1] // 2\n",
    "    y -= circle.shape[0] // 2\n",
    "    for r, c in circle.where():\n",
    "        if r >= y and c >= y and r + y < space.shape[0] and c + y < space.shape[1]:\n",
    "            space[r + y, c + x] += 1\n",
    "\n",
    "\n",
    "# alternative implementation:\n",
    "def add_mask2(space, mask, position, offset=(0, 0)):\n",
    "    \"\"\"\n",
    "    Add a given mask to the accumulator space.\n",
    "    \n",
    "    Args: \n",
    "        space (ndarray): Accumulator space.\n",
    "        mask (ndarray)\n",
    "        position (tuple)\n",
    "        offset (tuple)\n",
    "    \n",
    "    \"\"\"\n",
    "    position = np.subtract(position, offset)\n",
    "    space_min = np.maximum(position, 0)\n",
    "    mask_min = np.maximum(-position, 0)\n",
    "    space_max = np.minimum(space.shape, np.add(position, mask.shape))\n",
    "    mask_max = np.minimum(np.subtract(space.shape, position), mask.shape)\n",
    "    space[space_min[0]:space_max[0], space_min[1]:space_max[1]] += mask[\n",
    "        mask_min[0]:mask_max[0], mask_min[1]:mask_max[1]]\n",
    "\n",
    "\n",
    "def circular_hough(img, masks, radii):\n",
    "    \"\"\" Computes circular hough transform\n",
    "    \n",
    "    Args:\n",
    "        img (ndarray): Input image.\n",
    "        masks (list): List of circles.\n",
    "        radii (list): List of raddii.\n",
    "        \n",
    "    Returns:\n",
    "        accumulator (ndarray): Accumulator space.\n",
    "    \"\"\"\n",
    "    # Create the accumulator space. This space will have three dimensions:\n",
    "    # the x- and y-coordinate of the circle and its radius.\n",
    "    accumulator = np.zeros(\n",
    "        (len(radii), img.shape[0], img.shape[1]), dtype=np.int64)\n",
    "\n",
    "    for r, c in np.argwhere(img):\n",
    "        for i, radius in enumerate(radii):\n",
    "            add_mask2(accumulator[i], circles[i], (r, c),\n",
    "                      (radius + 1, radius + 1))\n",
    "    return accumulator\n",
    "\n",
    "\n",
    "# and perform circular hough transform\n",
    "accumulator = circular_hough(img, circles, radii)\n",
    "\n",
    "# Analyze the accumulator space\n",
    "out = np.zeros(img.shape, np.int64)\n",
    "for i, radius in enumerate(radii):\n",
    "    max_fit = np.count_nonzero(circles[i])\n",
    "    level = round(0.9 * max_fit)\n",
    "    print(\"radius = {}, max = {}/{}, better than {}: {}\".format(\n",
    "        radius, accumulator[i].max(), max_fit, level,\n",
    "        np.count_nonzero(accumulator[i] > level)))\n",
    "\n",
    "    for r, c in np.transpose(np.where(accumulator[i] > level)):\n",
    "        add_mask2(out, circles[i], (r, c), (radius + 1, radius + 1))\n",
    "\n",
    "plt.figure(figsize=(12,6))        \n",
    "plt.gray()\n",
    "plt.subplot(1, 2, 1)\n",
    "plt.imshow(img)\n",
    "plt.subplot(1, 2, 2)\n",
    "plt.imshow(out)\n",
    "plt.show()\n",
    "\n",
    "# END SOLUTION"
   ]
  },
  {
   "cell_type": "markdown",
   "metadata": {
    "nbgrader": {
     "grade": false,
     "grade_id": "cell-55e58490fba98d34",
     "locked": true,
     "schema_version": 3,
     "solution": false
    }
   },
   "source": [
    "## Assignment 3: Application: Eye detection (5 points)"
   ]
  },
  {
   "cell_type": "markdown",
   "metadata": {
    "nbgrader": {
     "grade": false,
     "grade_id": "hough-circular-q4",
     "locked": true,
     "schema_version": 3,
     "solution": false
    }
   },
   "source": [
    "**a)** It was suggested in the lecture, that circular Hough transform can be used to implement a simple\n",
    "form of “eye tracking”. Try this using your webcam.\n",
    "\n",
    "Hints:\n",
    "* You may start with a single snapshot (or some other image of a face from wherever you like) before applying your function to a video stream.\n",
    "* You may start using functions like `hough_circle` from `skimage.transform`, which implement circular Hough transform.\n",
    "* You may try to apply some preprocessing to detect edges or regions prior to Hough transform (you may use anything you know from the lecture).\n",
    "* `hough_circle` may be inappropriate, as it is designed to detect full circles, while eyes are often partially occluded. You may implement your own Hough transforms, which detects this kind of incomplete circles.\n",
    "* You may apply additional knowledge to detect eyes, e.g. that they usually occur in pairs. You may also use the approximate size and position from last frame."
   ]
  },
  {
   "cell_type": "code",
   "execution_count": null,
   "metadata": {
    "nbgrader": {
     "grade": true,
     "grade_id": "hough-circular-a4",
     "locked": false,
     "points": 5,
     "schema_version": 3,
     "solution": true
    }
   },
   "outputs": [],
   "source": [
    "# imageio\n",
    "%matplotlib notebook\n",
    "from IPython.display import display, HTML\n",
    "import matplotlib.pyplot as plt\n",
    "import imageio\n",
    "import numpy as np\n",
    "from skimage.filters import gaussian\n",
    "from skimage.feature import canny\n",
    "from skimage.color import rgb2gray\n",
    "from skimage.transform import hough_circle, hough_circle_peaks\n",
    "from skimage.draw import circle_perimeter\n",
    "\n",
    "    \n",
    "def detect_eyes(img):\n",
    "    \"\"\"Find and mark eyes in image.\n",
    "    \n",
    "    Args:\n",
    "        img (ndarray): The RGB input image to detect the eyes in. shape=(h, w, 3)\n",
    "        \n",
    "    Returns:\n",
    "        ndarray: The image with detected eyes highlighted.\n",
    "    \n",
    "    \"\"\"\n",
    "    ### BEGIN SOLUTION\n",
    "\n",
    "    # List of radii we compute hough transform for. Ideally we adjust for the perfect radius.\n",
    "    hough_radii = [10]\n",
    "\n",
    "    \n",
    "    # Convert to grayscale\n",
    "    img_gray = rgb2gray(img)\n",
    "    \n",
    "    # Detect edges\n",
    "    img_edges = canny(img_gray)\n",
    "    \n",
    "    # Detect radii\n",
    "    hough_res = hough_circle(img_edges, hough_radii)\n",
    "\n",
    "    # Select the two most prominent 2circles\n",
    "    accums, cx, cy, radii = hough_circle_peaks(hough_res, hough_radii,\n",
    "                                           total_num_peaks=2)\n",
    "\n",
    "    for center_y, center_x, radius in zip(cy, cx, radii):\n",
    "        circy, circx = circle_perimeter(center_y, center_x, radius,\n",
    "                                    shape=img.shape)\n",
    "        img[circy, circx] = (255, 0, 0)\n",
    "    \n",
    "    ### END SOLUTION\n",
    "\n",
    "# aquire some image a img\n",
    "### BEGIN SOLUTION\n",
    "img = np.zeros((256, 256))\n",
    "### END SOLUTION\n",
    "\n",
    "# display eyes detected in that image\n",
    "plt.figure()\n",
    "plt.imshow(detect_eyes(img))\n",
    "plt.show()"
   ]
  },
  {
   "cell_type": "code",
   "execution_count": null,
   "metadata": {},
   "outputs": [],
   "source": [
    "# Accessing the webcam with imageio\n",
    "import imageio.v2 as imageio\n",
    "\n",
    "try:\n",
    "    display(HTML(\"press <kbd>I</kbd>, <kbd>I</kbd> (Kernel Interrupt) to stop the demo!\"))\n",
    "    with imageio.get_reader('<video0>') as webcam:\n",
    "        fig = plt.figure(figsize=(8,6))\n",
    "        mpl_image = plt.imshow(webcam.get_next_data())\n",
    "\n",
    "        while True:\n",
    "            img = webcam.get_next_data()\n",
    "            mpl_image.set_data(detect_eyes(img))\n",
    "            fig.canvas.draw()\n",
    "except KeyboardInterrupt:\n",
    "    print(\"Interrupted\")\n",
    "finally:\n",
    "    webcam.close()\n",
    "    plt.close(fig)\n",
    "    print(\"Camera was closed.\")"
   ]
  },
  {
   "cell_type": "code",
   "execution_count": null,
   "metadata": {},
   "outputs": [],
   "source": [
    "# Accessing the webcam with OpenCV\n",
    "import cv2\n",
    "\n",
    "try:\n",
    "    display(HTML(\"press <kbd>I</kbd>, <kbd>I</kbd> (Kernel Interrupt) to stop the demo!\"))\n",
    "    webcam = cv2.VideoCapture(0)\n",
    "    success, frame_bgr = webcam.read()\n",
    "    if not success:\n",
    "        raise RuntimeError(\"Error accessing webcam\")\n",
    "    fig = plt.figure(figsize=(8,6))\n",
    "    mpl_image = plt.imshow(cv2.cvtColor(frame_bgr, cv2.COLOR_BGR2RGB))\n",
    "\n",
    "    while True:\n",
    "        success, frame_bgr = webcam.read()\n",
    "        if not success:\n",
    "            raise RuntimeError(\"Error accessing webcam\")\n",
    "        img = cv2.cvtColor(frame_bgr, cv2.COLOR_BGR2RGB)\n",
    "        mpl_image.set_data(detect_eyes(img))\n",
    "        fig.canvas.draw()\n",
    "        \n",
    "except KeyboardInterrupt:\n",
    "    print(\"Interrupted\")\n",
    "finally:\n",
    "    webcam.release()\n",
    "    plt.close(fig)\n",
    "    print(\"Camera was closed.\")"
   ]
  },
  {
   "cell_type": "markdown",
   "metadata": {
    "nbgrader": {
     "grade": false,
     "grade_id": "cell-4d249ca7d09992a3",
     "locked": true,
     "schema_version": 3,
     "solution": false,
     "task": false
    }
   },
   "source": [
    "## Assignment 4: Fourier Transform Basics (4 points)"
   ]
  },
  {
   "cell_type": "markdown",
   "metadata": {
    "nbgrader": {
     "grade": false,
     "grade_id": "cell-6c9b789fb245e56e",
     "locked": true,
     "schema_version": 3,
     "solution": false,
     "task": false
    }
   },
   "source": [
    "**(a)** There are several \"versions\" of Fourier transform mentioned on the lecture slides:\n",
    "* transformation of periodic function vs. aperiodic functions\n",
    "* transformation of continuous vs. discrete functions\n",
    "* real vs. complex basis functions\n",
    "* different scaling factor \n",
    "* 1D and 2D transformation\n",
    "\n",
    "How do these different versions affect the formula for Fourier transform? What version of Fourier transform is relevant in the context of Computer Vision?"
   ]
  },
  {
   "cell_type": "markdown",
   "metadata": {
    "nbgrader": {
     "grade": true,
     "grade_id": "cell-961cf610dd711a1f",
     "locked": false,
     "points": 2,
     "schema_version": 3,
     "solution": true,
     "task": false
    }
   },
   "source": [
    "* periodic function vs. aperiodic function (finite vs. infinite integrals/sums, CV-09, slide 12)\n",
    "* continuous vs. discrete functions (integral vs. sums, CV-09, slide 21)\n",
    "* real vs. complex form (sine/cosine vs. exponential, CV-09, slide 6ff, slide 16)\n",
    "* different prefactor conventions (CV-09, slide 19)\n",
    "* 1D and 2D transformation (CV-09, slide 21)\n",
    "\n",
    "Relevant for Computer Vision: discrete and periodic 2D Fourier transform, typically using complex representation."
   ]
  },
  {
   "cell_type": "markdown",
   "metadata": {
    "nbgrader": {
     "grade": false,
     "grade_id": "cell-49d777ea271c024f",
     "locked": true,
     "schema_version": 3,
     "solution": false,
     "task": false
    }
   },
   "source": [
    "**(b)** The basis function for Fourier transform in Computer Vision can be considered as images. How do they look like? How many such basis images exist? Provide code to plot basis images for an image of shape `(100, 100)`.\n",
    "\n",
    "\n"
   ]
  },
  {
   "cell_type": "markdown",
   "metadata": {
    "nbgrader": {
     "grade": true,
     "grade_id": "cell-a4f801276362aea7",
     "locked": false,
     "points": 1,
     "schema_version": 3,
     "solution": true,
     "task": false
    }
   },
   "source": [
    "The basis images have the same shape as the original image (the original image is a linear combination of the base images). A base image depicts a wave of a given horizontal and vertical frequency, with valid frequencies ranging from 0 up to the half of the image width and height.\n",
    "\n",
    "In case of the real form (sine and cosine) there are two versions for each frequency, in the complex case, there is only one (instead the linear coefficient contains the phase information)."
   ]
  },
  {
   "cell_type": "code",
   "execution_count": null,
   "metadata": {
    "nbgrader": {
     "grade": true,
     "grade_id": "cell-7f5a8bddaa4ce2eb",
     "locked": false,
     "points": 1,
     "schema_version": 3,
     "solution": true,
     "task": false
    }
   },
   "outputs": [],
   "source": [
    "%matplotlib inline\n",
    "import numpy as np\n",
    "import matplotlib.pyplot as plt\n",
    "\n",
    "shape = (100,100)\n",
    "### BEGIN SOLUTION\n",
    "u, v = (2, 3)\n",
    "\n",
    "def wave_image(shape, u, v, amplitude=1.0, phase=0.0):\n",
    "    \"\"\"Create a basis wave for Fourier transform of an image of a given shape,\n",
    "    horizontal and vertical frequency, amplitude, and phase.\n",
    "    \"\"\"\n",
    "    frequencies = np.zeros(shape, dtype=complex)\n",
    "    frequencies[v,u] = frequencies.size * amplitude * np.exp(1j * phase)\n",
    "    return np.real(np.fft.ifft2(frequencies))\n",
    "\n",
    "fig = plt.figure()\n",
    "plt_im = plt.imshow(wave_image(shape, u, v), cmap='gray', vmin=-1, vmax=1, interpolation='bilinear')\n",
    "plt.show()\n",
    "### END SOLUTION"
   ]
  }
 ],
 "metadata": {
  "hide_input": false,
  "kernelspec": {
   "display_name": "Python 3",
   "language": "python",
   "name": "python3"
  },
  "language_info": {
   "codemirror_mode": {
    "name": "ipython",
    "version": 3
   },
   "file_extension": ".py",
   "mimetype": "text/x-python",
   "name": "python",
   "nbconvert_exporter": "python",
   "pygments_lexer": "ipython3",
   "version": "3.7.6"
  },
  "toc": {
   "base_numbering": 1,
   "nav_menu": {},
   "number_sections": true,
   "sideBar": true,
   "skip_h1_title": false,
   "title_cell": "Table of Contents",
   "title_sidebar": "Contents",
   "toc_cell": false,
   "toc_position": {},
   "toc_section_display": true,
   "toc_window_display": false
  }
 },
 "nbformat": 4,
 "nbformat_minor": 5
}
