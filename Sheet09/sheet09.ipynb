{
 "cells": [
  {
   "cell_type": "markdown",
   "metadata": {
    "deletable": false,
    "editable": false,
    "nbgrader": {
     "cell_type": "markdown",
     "checksum": "5d06a0567fc99aca4e7aab9e3569aae2",
     "grade": false,
     "grade_id": "h00",
     "locked": true,
     "schema_version": 3,
     "solution": false
    }
   },
   "source": [
    "Osnabrück University - Computer Vision (Winter Term 2022/23) - Prof. Dr.-Ing. G. Heidemann, Ulf Krumnack"
   ]
  },
  {
   "cell_type": "markdown",
   "metadata": {
    "deletable": false,
    "editable": false,
    "nbgrader": {
     "cell_type": "markdown",
     "checksum": "3db56e2a31cd64acb989b76b9aecaa9f",
     "grade": false,
     "grade_id": "cell-fcc4a8f1ac6d5976",
     "locked": true,
     "schema_version": 3,
     "solution": false
    }
   },
   "source": [
    "# Exercise Sheet 09: Filter Design/Compression"
   ]
  },
  {
   "cell_type": "markdown",
   "metadata": {
    "deletable": false,
    "editable": false,
    "nbgrader": {
     "cell_type": "markdown",
     "checksum": "a292bff81cbd5d8feddb75558ffabe3d",
     "grade": false,
     "grade_id": "cell-983153e0faf373b1",
     "locked": true,
     "schema_version": 3,
     "solution": false
    }
   },
   "source": [
    "## Introduction\n",
    "\n",
    "This week's sheet should be solved and handed in before the end of **Sunday, January 22, 2023**. If you need help (and Google and other resources were not enough), consult the StudIP forum. Please upload your results to your group's Stud.IP folder."
   ]
  },
  {
   "cell_type": "markdown",
   "metadata": {
    "deletable": false,
    "editable": false,
    "nbgrader": {
     "cell_type": "markdown",
     "checksum": "0f3d13f481b31bdda3ff0537dc83b074",
     "grade": false,
     "grade_id": "cell-1294b5df62dc9899",
     "locked": true,
     "schema_version": 3,
     "solution": false
    }
   },
   "source": [
    "## Exercise 0: Math recap (Covariance) [0 Points]\n",
    "\n",
    "This exercise is intended to revise the notion of covariance, which will pop up in class soon. Check if you are comfortable with it. You don't need a deep understanding, but you should have got the basic ideas. If you have problems to answer these questions offhand, this is a good time to look terms up (again). You are always welcome to discuss questions with the tutors or in the practice session. Also, if you have a (math) topic you would like to recap, please let us know."
   ]
  },
  {
   "cell_type": "markdown",
   "metadata": {
    "deletable": false,
    "editable": false,
    "nbgrader": {
     "cell_type": "markdown",
     "checksum": "9d0f8831a350d1fcf59e0123379d5128",
     "grade": false,
     "grade_id": "cell-dd4fc8740fa24cd4",
     "locked": true,
     "schema_version": 3,
     "solution": false
    }
   },
   "source": [
    "**a)** What does *covariance* express? How can the covariance between two random variables be computed? What is the relation to *correlation*?"
   ]
  },
  {
   "cell_type": "markdown",
   "metadata": {
    "deletable": false,
    "nbgrader": {
     "cell_type": "markdown",
     "checksum": "2fe29e77b9ee47fe2e2cb291452374a4",
     "grade": true,
     "grade_id": "cell-d0a08e6b9df1fa49",
     "locked": false,
     "points": 0,
     "schema_version": 3,
     "solution": true
    },
    "solution": true
   },
   "source": [
    "YOUR ANSWER HERE"
   ]
  },
  {
   "cell_type": "markdown",
   "metadata": {
    "deletable": false,
    "editable": false,
    "nbgrader": {
     "cell_type": "markdown",
     "checksum": "9c121e6f5e80ac02e35fdaee8e090e2c",
     "grade": false,
     "grade_id": "cell-3f45913faacb5114",
     "locked": true,
     "schema_version": 3,
     "solution": false
    }
   },
   "source": [
    "**b)** What is the *covariance matrix*? What do the entries in this matrix represent? How is it computed?"
   ]
  },
  {
   "cell_type": "markdown",
   "metadata": {
    "deletable": false,
    "nbgrader": {
     "cell_type": "markdown",
     "checksum": "56f4777cbc6351cc2f120d7cfe5c1fe5",
     "grade": true,
     "grade_id": "cell-786eb09d2039e702",
     "locked": false,
     "points": 0,
     "schema_version": 3,
     "solution": true
    },
    "solution": true
   },
   "source": [
    "YOUR ANSWER HERE"
   ]
  },
  {
   "cell_type": "markdown",
   "metadata": {
    "deletable": false,
    "editable": false,
    "nbgrader": {
     "cell_type": "markdown",
     "checksum": "c6f09fa26d3a68ae37e242ec00cb1aed",
     "grade": false,
     "grade_id": "cell-acdf51da975ebbb6",
     "locked": true,
     "schema_version": 3,
     "solution": false
    }
   },
   "source": [
    "**c)** Create and plot two (1-dimensional) datasets with low covariance (use `plt.scatter`). Then do the same for two datasets with high covariance."
   ]
  },
  {
   "cell_type": "code",
   "execution_count": null,
   "metadata": {
    "deletable": false,
    "nbgrader": {
     "cell_type": "code",
     "checksum": "dbcd57f602a39bae092048894c6849e1",
     "grade": true,
     "grade_id": "cell-93b8616a81136037",
     "locked": false,
     "points": 0,
     "schema_version": 3,
     "solution": true
    },
    "solution": true
   },
   "outputs": [],
   "source": [
    "%matplotlib inline\n",
    "import numpy as np\n",
    "import matplotlib.pyplot as plt\n",
    "\n",
    "# YOUR CODE HERE\n",
    "raise NotImplementedError()"
   ]
  },
  {
   "cell_type": "markdown",
   "metadata": {
    "deletable": false,
    "editable": false,
    "nbgrader": {
     "cell_type": "markdown",
     "checksum": "ed3b033c0bc90ad87fca052e99c9e27a",
     "grade": false,
     "grade_id": "cell-filter-design",
     "locked": true,
     "schema_version": 3,
     "solution": false,
     "task": false
    }
   },
   "source": [
    "## Assignment 1: Filter design and frequency space (6 points)"
   ]
  },
  {
   "cell_type": "markdown",
   "metadata": {
    "deletable": false,
    "editable": false,
    "nbgrader": {
     "cell_type": "markdown",
     "checksum": "7332a8d30c93002c9fe56c6198dab63e",
     "grade": false,
     "grade_id": "cell-filter-box",
     "locked": true,
     "schema_version": 3,
     "solution": false,
     "task": false
    }
   },
   "source": [
    "**a)** Create and plot the kernels of box filter and binomial filter in frequency space. Vary the the kernel size. What do you observe?"
   ]
  },
  {
   "cell_type": "code",
   "execution_count": 13,
   "metadata": {
    "deletable": false,
    "nbgrader": {
     "cell_type": "code",
     "checksum": "6979ec634b44e2d2325bc5546ca9c98b",
     "grade": true,
     "grade_id": "cell-filter-box-implementation",
     "locked": false,
     "points": 1,
     "schema_version": 3,
     "solution": true,
     "task": false
    }
   },
   "outputs": [
    {
     "ename": "IndexError",
     "evalue": "index 50 is out of bounds for axis 0 with size 3",
     "output_type": "error",
     "traceback": [
      "\u001b[1;31m---------------------------------------------------------------------------\u001b[0m",
      "\u001b[1;31mIndexError\u001b[0m                                Traceback (most recent call last)",
      "\u001b[1;32m<ipython-input-13-e8bd7c7b5f5c>\u001b[0m in \u001b[0;36m<module>\u001b[1;34m\u001b[0m\n\u001b[0;32m     38\u001b[0m \u001b[0mplt\u001b[0m\u001b[1;33m.\u001b[0m\u001b[0mtitle\u001b[0m\u001b[1;33m(\u001b[0m\u001b[1;34mf\"Binomial filter (size={kernel_size})\"\u001b[0m\u001b[1;33m)\u001b[0m\u001b[1;33m\u001b[0m\u001b[1;33m\u001b[0m\u001b[0m\n\u001b[0;32m     39\u001b[0m \u001b[0mplt\u001b[0m\u001b[1;33m.\u001b[0m\u001b[0mimshow\u001b[0m\u001b[1;33m(\u001b[0m\u001b[0mnp\u001b[0m\u001b[1;33m.\u001b[0m\u001b[0mabs\u001b[0m\u001b[1;33m(\u001b[0m\u001b[0mbinomial_frequencies\u001b[0m\u001b[1;33m)\u001b[0m\u001b[1;33m)\u001b[0m\u001b[1;33m\u001b[0m\u001b[1;33m\u001b[0m\u001b[0m\n\u001b[1;32m---> 40\u001b[1;33m \u001b[0mplt\u001b[0m\u001b[1;33m.\u001b[0m\u001b[0mplot\u001b[0m\u001b[1;33m(\u001b[0m\u001b[0mnp\u001b[0m\u001b[1;33m.\u001b[0m\u001b[0marange\u001b[0m\u001b[1;33m(\u001b[0m\u001b[0mimage_size\u001b[0m\u001b[1;33m)\u001b[0m\u001b[1;33m,\u001b[0m \u001b[0mnp\u001b[0m\u001b[1;33m.\u001b[0m\u001b[0mabs\u001b[0m\u001b[1;33m(\u001b[0m\u001b[0mbinomial_frequencies\u001b[0m\u001b[1;33m)\u001b[0m\u001b[1;33m[\u001b[0m\u001b[0mimage_size\u001b[0m\u001b[1;33m//\u001b[0m\u001b[1;36m2\u001b[0m\u001b[1;33m]\u001b[0m\u001b[1;33m*\u001b[0m\u001b[0mimage_size\u001b[0m\u001b[1;33m)\u001b[0m\u001b[1;33m\u001b[0m\u001b[1;33m\u001b[0m\u001b[0m\n\u001b[0m\u001b[0;32m     41\u001b[0m \u001b[0mplt\u001b[0m\u001b[1;33m.\u001b[0m\u001b[0mylim\u001b[0m\u001b[1;33m(\u001b[0m\u001b[1;36m0\u001b[0m\u001b[1;33m,\u001b[0m \u001b[0mimage_size\u001b[0m\u001b[1;33m-\u001b[0m\u001b[1;36m1\u001b[0m\u001b[1;33m)\u001b[0m\u001b[1;33m\u001b[0m\u001b[1;33m\u001b[0m\u001b[0m\n\u001b[0;32m     42\u001b[0m \u001b[0mplt\u001b[0m\u001b[1;33m.\u001b[0m\u001b[0mshow\u001b[0m\u001b[1;33m(\u001b[0m\u001b[1;33m)\u001b[0m\u001b[1;33m\u001b[0m\u001b[1;33m\u001b[0m\u001b[0m\n",
      "\u001b[1;31mIndexError\u001b[0m: index 50 is out of bounds for axis 0 with size 3"
     ]
    },
    {
     "data": {
      "image/png": "[encoded data removed]",
      "text/plain": [
       "<Figure size 864x432 with 2 Axes>"
      ]
     },
     "metadata": {
      "needs_background": "light"
     },
     "output_type": "display_data"
    }
   ],
   "source": [
    "%matplotlib inline\n",
    "import numpy as np\n",
    "import matplotlib.pyplot as plt\n",
    "from scipy.special import binom\n",
    "\n",
    "kernel_size = 3 # vary this\n",
    "image_size = 100\n",
    "\n",
    "# compute the kernel\n",
    "box_kernel = np.zeros((image_size,image_size))\n",
    "binomial_kernel = np.zeros((image_size,image_size))\n",
    "\n",
    "# YOUR CODE HERE\n",
    "for i in range(kernel_size) :\n",
    "    for j in range(kernel_size) :\n",
    "        box_kernel[i,j] = 1\n",
    "box_kernel *= 1/kernel_size\n",
    "\n",
    "\n",
    "ax = np.linspace(-(kernel_size - 1) / 2., (kernel_size - 1) / 2., kernel_size)\n",
    "gauss = np.exp(-0.5 * np.square(ax))\n",
    "binomial_kernel = np.outer(gauss, gauss)\n",
    "binomial_kernel *= 1/np.sum(binomial_kernel)\n",
    "\n",
    "\n",
    "box_frequencies = np.fft.fftshift(np.fft.fft2(box_kernel))\n",
    "binomial_frequencies = np.fft.fftshift(np.fft.fft2(binomial_kernel))\n",
    "\n",
    "# plot kernel in frequency space\n",
    "plt.figure(figsize=(12,6))\n",
    "plt.gray()\n",
    "plt.subplot(1,2,1)\n",
    "plt.title(f\"Box filter (size={kernel_size})\")\n",
    "plt.imshow(np.abs(box_frequencies))\n",
    "plt.plot(np.arange(image_size), np.abs(box_frequencies)[image_size//2]*image_size)\n",
    "plt.ylim(0, image_size-1)\n",
    "plt.subplot(1,2,2)\n",
    "plt.title(f\"Binomial filter (size={kernel_size})\")\n",
    "plt.imshow(np.abs(binomial_frequencies))\n",
    "plt.plot(np.arange(image_size), np.abs(binomial_frequencies)[image_size//2]*image_size)\n",
    "plt.ylim(0, image_size-1)\n",
    "plt.show()"
   ]
  },
  {
   "cell_type": "markdown",
   "metadata": {
    "deletable": false,
    "nbgrader": {
     "cell_type": "markdown",
     "checksum": "8669d5c0e743aa8d0e116a40fa5b7bec",
     "grade": true,
     "grade_id": "cell-filter-box-answer",
     "locked": false,
     "points": 1,
     "schema_version": 3,
     "solution": true,
     "task": false
    }
   },
   "source": [
    "The kernel size is bigger, the higher frequencies' area is boarder. "
   ]
  },
  {
   "cell_type": "markdown",
   "metadata": {
    "deletable": false,
    "editable": false,
    "nbgrader": {
     "cell_type": "markdown",
     "checksum": "ee71fde2f5f12ac4c830ee33d7d3c68b",
     "grade": false,
     "grade_id": "cell-filter-low-pass",
     "locked": true,
     "schema_version": 3,
     "solution": false,
     "task": false
    }
   },
   "source": [
    "**b)** Implement a low pass filter and apply it to the given image with different cut off frequencies $F_\\max$. What do you observe? Explain that observation and discuss how to improve the result."
   ]
  },
  {
   "cell_type": "code",
   "execution_count": 25,
   "metadata": {
    "deletable": false,
    "nbgrader": {
     "cell_type": "code",
     "checksum": "54827eb94838115fb7e288540c28d578",
     "grade": true,
     "grade_id": "cell-filter-low-implementation",
     "locked": false,
     "points": 1,
     "schema_version": 3,
     "solution": true,
     "task": false
    }
   },
   "outputs": [
    {
     "ename": "TypeError",
     "evalue": "Complex type not supported",
     "output_type": "error",
     "traceback": [
      "\u001b[1;31m---------------------------------------------------------------------------\u001b[0m",
      "\u001b[1;31mTypeError\u001b[0m                                 Traceback (most recent call last)",
      "\u001b[1;32m<ipython-input-25-bdd5272be1e8>\u001b[0m in \u001b[0;36m<module>\u001b[1;34m\u001b[0m\n\u001b[0;32m     18\u001b[0m     \u001b[1;32mreturn\u001b[0m \u001b[0mresult\u001b[0m\u001b[1;33m\u001b[0m\u001b[1;33m\u001b[0m\u001b[0m\n\u001b[0;32m     19\u001b[0m \u001b[1;33m\u001b[0m\u001b[0m\n\u001b[1;32m---> 20\u001b[1;33m \u001b[0mfiltered_image\u001b[0m \u001b[1;33m=\u001b[0m \u001b[0mlow_pass_filter\u001b[0m\u001b[1;33m(\u001b[0m\u001b[0mimage\u001b[0m\u001b[1;33m,\u001b[0m \u001b[0mf_max\u001b[0m\u001b[1;33m=\u001b[0m\u001b[0mf_max\u001b[0m\u001b[1;33m)\u001b[0m\u001b[1;33m\u001b[0m\u001b[1;33m\u001b[0m\u001b[0m\n\u001b[0m\u001b[0;32m     21\u001b[0m \u001b[1;33m\u001b[0m\u001b[0m\n\u001b[0;32m     22\u001b[0m \u001b[1;31m# plot kernel in frequency space\u001b[0m\u001b[1;33m\u001b[0m\u001b[1;33m\u001b[0m\u001b[1;33m\u001b[0m\u001b[0m\n",
      "\u001b[1;32m<ipython-input-25-bdd5272be1e8>\u001b[0m in \u001b[0;36mlow_pass_filter\u001b[1;34m(image, f_max)\u001b[0m\n\u001b[0;32m     14\u001b[0m             \u001b[0mlow_pass_filter\u001b[0m\u001b[1;33m[\u001b[0m\u001b[0mu\u001b[0m\u001b[1;33m,\u001b[0m \u001b[0mv\u001b[0m\u001b[1;33m]\u001b[0m \u001b[1;33m=\u001b[0m \u001b[1;36m1\u001b[0m\u001b[1;33m\u001b[0m\u001b[1;33m\u001b[0m\u001b[0m\n\u001b[0;32m     15\u001b[0m     \u001b[0mresult\u001b[0m \u001b[1;33m=\u001b[0m \u001b[0mnp\u001b[0m\u001b[1;33m.\u001b[0m\u001b[0mfft\u001b[0m\u001b[1;33m.\u001b[0m\u001b[0mfft2\u001b[0m\u001b[1;33m(\u001b[0m\u001b[0mimage\u001b[0m\u001b[1;33m)\u001b[0m\u001b[1;33m\u001b[0m\u001b[1;33m\u001b[0m\u001b[0m\n\u001b[1;32m---> 16\u001b[1;33m     \u001b[0mresult\u001b[0m \u001b[1;33m=\u001b[0m \u001b[0mndimage\u001b[0m\u001b[1;33m.\u001b[0m\u001b[0mconvolve\u001b[0m\u001b[1;33m(\u001b[0m\u001b[0mresult\u001b[0m\u001b[1;33m,\u001b[0m \u001b[0mlow_pass_filter\u001b[0m\u001b[1;33m)\u001b[0m\u001b[1;33m\u001b[0m\u001b[1;33m\u001b[0m\u001b[0m\n\u001b[0m\u001b[0;32m     17\u001b[0m     \u001b[0mresult\u001b[0m \u001b[1;33m=\u001b[0m \u001b[0mnp\u001b[0m\u001b[1;33m.\u001b[0m\u001b[0mfft\u001b[0m\u001b[1;33m.\u001b[0m\u001b[0mfftshift\u001b[0m\u001b[1;33m(\u001b[0m\u001b[0mresult\u001b[0m\u001b[1;33m)\u001b[0m\u001b[1;33m\u001b[0m\u001b[1;33m\u001b[0m\u001b[0m\n\u001b[0;32m     18\u001b[0m     \u001b[1;32mreturn\u001b[0m \u001b[0mresult\u001b[0m\u001b[1;33m\u001b[0m\u001b[1;33m\u001b[0m\u001b[0m\n",
      "\u001b[1;32mC:\\Anaconda3\\lib\\site-packages\\scipy\\ndimage\\filters.py\u001b[0m in \u001b[0;36mconvolve\u001b[1;34m(input, weights, output, mode, cval, origin)\u001b[0m\n\u001b[0;32m    753\u001b[0m     \"\"\"\n\u001b[0;32m    754\u001b[0m     return _correlate_or_convolve(input, weights, output, mode, cval,\n\u001b[1;32m--> 755\u001b[1;33m                                   origin, True)\n\u001b[0m\u001b[0;32m    756\u001b[0m \u001b[1;33m\u001b[0m\u001b[0m\n\u001b[0;32m    757\u001b[0m \u001b[1;33m\u001b[0m\u001b[0m\n",
      "\u001b[1;32mC:\\Anaconda3\\lib\\site-packages\\scipy\\ndimage\\filters.py\u001b[0m in \u001b[0;36m_correlate_or_convolve\u001b[1;34m(input, weights, output, mode, cval, origin, convolution)\u001b[0m\n\u001b[0;32m    598\u001b[0m     \u001b[0minput\u001b[0m \u001b[1;33m=\u001b[0m \u001b[0mnumpy\u001b[0m\u001b[1;33m.\u001b[0m\u001b[0masarray\u001b[0m\u001b[1;33m(\u001b[0m\u001b[0minput\u001b[0m\u001b[1;33m)\u001b[0m\u001b[1;33m\u001b[0m\u001b[1;33m\u001b[0m\u001b[0m\n\u001b[0;32m    599\u001b[0m     \u001b[1;32mif\u001b[0m \u001b[0mnumpy\u001b[0m\u001b[1;33m.\u001b[0m\u001b[0miscomplexobj\u001b[0m\u001b[1;33m(\u001b[0m\u001b[0minput\u001b[0m\u001b[1;33m)\u001b[0m\u001b[1;33m:\u001b[0m\u001b[1;33m\u001b[0m\u001b[1;33m\u001b[0m\u001b[0m\n\u001b[1;32m--> 600\u001b[1;33m         \u001b[1;32mraise\u001b[0m \u001b[0mTypeError\u001b[0m\u001b[1;33m(\u001b[0m\u001b[1;34m'Complex type not supported'\u001b[0m\u001b[1;33m)\u001b[0m\u001b[1;33m\u001b[0m\u001b[1;33m\u001b[0m\u001b[0m\n\u001b[0m\u001b[0;32m    601\u001b[0m     \u001b[0morigins\u001b[0m \u001b[1;33m=\u001b[0m \u001b[0m_ni_support\u001b[0m\u001b[1;33m.\u001b[0m\u001b[0m_normalize_sequence\u001b[0m\u001b[1;33m(\u001b[0m\u001b[0morigin\u001b[0m\u001b[1;33m,\u001b[0m \u001b[0minput\u001b[0m\u001b[1;33m.\u001b[0m\u001b[0mndim\u001b[0m\u001b[1;33m)\u001b[0m\u001b[1;33m\u001b[0m\u001b[1;33m\u001b[0m\u001b[0m\n\u001b[0;32m    602\u001b[0m     \u001b[0mweights\u001b[0m \u001b[1;33m=\u001b[0m \u001b[0mnumpy\u001b[0m\u001b[1;33m.\u001b[0m\u001b[0masarray\u001b[0m\u001b[1;33m(\u001b[0m\u001b[0mweights\u001b[0m\u001b[1;33m,\u001b[0m \u001b[0mdtype\u001b[0m\u001b[1;33m=\u001b[0m\u001b[0mnumpy\u001b[0m\u001b[1;33m.\u001b[0m\u001b[0mfloat64\u001b[0m\u001b[1;33m)\u001b[0m\u001b[1;33m\u001b[0m\u001b[1;33m\u001b[0m\u001b[0m\n",
      "\u001b[1;31mTypeError\u001b[0m: Complex type not supported"
     ]
    }
   ],
   "source": [
    "import numpy as np\n",
    "import matplotlib.pyplot as plt\n",
    "import imageio as imageio\n",
    "from scipy import ndimage\n",
    "\n",
    "f_max = 30\n",
    "image = imageio.imread('imageio:camera.png')\n",
    "\n",
    "def low_pass_filter(image, f_max):\n",
    "    result = image\n",
    "    low_pass_filter = np.zeros((image.shape[0],image.shape[1]))\n",
    "    for u, v in np.ndindex(image.shape[0], image.shape[1]) :\n",
    "        if (u * u + v * v <= f_max * f_max) :\n",
    "            low_pass_filter[u, v] = 1\n",
    "    result = np.fft.fft2(image)\n",
    "    result = ndimage.convolve(result, low_pass_filter)\n",
    "    result = np.fft.fftshift(result)\n",
    "    return result\n",
    "\n",
    "filtered_image = low_pass_filter(image, f_max=f_max)\n",
    "\n",
    "# plot kernel in frequency space\n",
    "plt.figure(figsize=(18,5))\n",
    "plt.gray()\n",
    "plt.subplot(1,3,1); plt.title(f\"Original image\")\n",
    "plt.imshow(image) \n",
    "plt.subplot(1,3,2); plt.title(f\"Lowpass-filterered image ($F_\\max$={f_max})\")\n",
    "plt.imshow(filtered_image)\n",
    "plt.subplot(1,3,3); plt.title(f\"Difference\")\n",
    "plt.imshow(filtered_image-image)\n",
    "plt.show()"
   ]
  },
  {
   "cell_type": "markdown",
   "metadata": {
    "deletable": false,
    "nbgrader": {
     "cell_type": "markdown",
     "checksum": "9908e8ace38a64f8395e9010ee0550ff",
     "grade": true,
     "grade_id": "cell-filter-box-pass-answer",
     "locked": false,
     "points": 1,
     "schema_version": 3,
     "solution": true,
     "task": false
    }
   },
   "source": [
    "It may lead to ringing-artifact. The pixel of the image might be wavy."
   ]
  },
  {
   "cell_type": "markdown",
   "metadata": {
    "deletable": false,
    "editable": false,
    "nbgrader": {
     "cell_type": "markdown",
     "checksum": "44ec334f8d4ad75d9990bebdab82d853",
     "grade": false,
     "grade_id": "cell-filter-box4",
     "locked": true,
     "schema_version": 3,
     "solution": false,
     "task": false
    }
   },
   "source": [
    "**c)** What is a good kernel size for a Gaussian filter? Justify your answer."
   ]
  },
  {
   "cell_type": "markdown",
   "metadata": {
    "deletable": false,
    "nbgrader": {
     "cell_type": "markdown",
     "checksum": "31d901bf3c3b57fc8e22ee6e3f9cb649",
     "grade": true,
     "grade_id": "cell-filter-box4-answer",
     "locked": false,
     "points": 1,
     "schema_version": 3,
     "solution": true,
     "task": false
    }
   },
   "source": [
    "I didn't get the exact kernel size for a Gaussian filter. But broad kernel has narrow spectrum."
   ]
  },
  {
   "cell_type": "markdown",
   "metadata": {
    "deletable": false,
    "editable": false,
    "nbgrader": {
     "cell_type": "markdown",
     "checksum": "0c782d5741e70329f0d9d9885bcdd625",
     "grade": false,
     "grade_id": "cell-filter-impulse",
     "locked": true,
     "schema_version": 3,
     "solution": false,
     "task": false
    }
   },
   "source": [
    "**d)** Describe impulse (\"salt and pepper\") noise and explain what kind of filter should be used to remove such noise."
   ]
  },
  {
   "cell_type": "markdown",
   "metadata": {
    "deletable": false,
    "nbgrader": {
     "cell_type": "markdown",
     "checksum": "0d5e76e594879e5531dfd600e4a6d6c6",
     "grade": true,
     "grade_id": "cell-filter-implulse-answer",
     "locked": false,
     "points": 1,
     "schema_version": 3,
     "solution": true,
     "task": false
    }
   },
   "source": [
    "When image has small white or black dots, we call it salt and pepper noise. It is irregular and small so when images have the salt and pepper noise, it is hard to make the image smooth. The butterworth filter may help it to remove. Butterworth filter help the filtered image not have wave."
   ]
  },
  {
   "cell_type": "markdown",
   "metadata": {
    "deletable": false,
    "editable": false,
    "nbgrader": {
     "cell_type": "markdown",
     "checksum": "7cd094ee007ec6fa72042d6e8325705e",
     "grade": false,
     "grade_id": "cell-sampling-theorem",
     "locked": true,
     "schema_version": 3,
     "solution": false,
     "task": false
    }
   },
   "source": [
    "## Assignment 2: Sampling theorem (4 points)"
   ]
  },
  {
   "cell_type": "markdown",
   "metadata": {
    "deletable": false,
    "editable": false,
    "nbgrader": {
     "cell_type": "markdown",
     "checksum": "2ede641a01e67cb7f06d8d0d78ed0126",
     "grade": false,
     "grade_id": "cell-sampling-theorem-statement",
     "locked": true,
     "schema_version": 3,
     "solution": false,
     "task": false
    }
   },
   "source": [
    "**a)** Express the statement of the sampling theorem in your own words. Explain its relevance."
   ]
  },
  {
   "cell_type": "markdown",
   "metadata": {
    "deletable": false,
    "nbgrader": {
     "cell_type": "markdown",
     "checksum": "4da4c8077e14c908602aa1bb307f2aef",
     "grade": true,
     "grade_id": "cell-sampling-theorem-statement-answer",
     "locked": false,
     "points": 1,
     "schema_version": 3,
     "solution": true,
     "task": false
    }
   },
   "source": [
    "aim of sampling theory is to change continouse image into discrete image without losing or adding information (Aliasing). sampling theory is simply multiplying the continouse image with impulse train(delta function) which is called 'Shah Function'\n",
    "fs(x) = f(x)*s(x). if we get the fourier transform of the continous function and convoluted with fourier transform of delta function the result will be copies of the fourier transform of the original signal."
   ]
  },
  {
   "cell_type": "markdown",
   "metadata": {
    "deletable": false,
    "editable": false,
    "nbgrader": {
     "cell_type": "markdown",
     "checksum": "08902cdacafcf61706ba01ca068e8163",
     "grade": false,
     "grade_id": "cell-sampling-theorem-scan",
     "locked": true,
     "schema_version": 3,
     "solution": false,
     "task": false
    }
   },
   "source": [
    "**b)** Assume you are given a document printed on a 600 dpi (dots per inch) printer. If you want to scan this document, what resolution should you choose to avoid aliasing effects?"
   ]
  },
  {
   "cell_type": "markdown",
   "metadata": {
    "deletable": false,
    "nbgrader": {
     "cell_type": "markdown",
     "checksum": "14c706b2c7695e0213117b676d5cef42",
     "grade": true,
     "grade_id": "cell-sampling-theorem-scan-answer",
     "locked": false,
     "points": 1,
     "schema_version": 3,
     "solution": true,
     "task": false
    }
   },
   "source": [
    "to avoid the aliasing effects we have to shift the copies of fourier transform so that they wouldn't overlap (increase 1/Δx) and we can do that by decreasing delta x or w Δx ≤ 1/(2w) so according to the previous equation x(pixels) = 600*2 = 1200 pixels \n",
    "(the pixels are the resolution)"
   ]
  },
  {
   "cell_type": "markdown",
   "metadata": {
    "deletable": false,
    "editable": false,
    "nbgrader": {
     "cell_type": "markdown",
     "checksum": "99a4a74e1b4c8a1c1dafaa74a0d26c49",
     "grade": false,
     "grade_id": "cell-sampling-theorem-moire",
     "locked": true,
     "schema_version": 3,
     "solution": false,
     "task": false
    }
   },
   "source": [
    "**c)** What is aliasing? Explain the Moiré effect shown in the following cell."
   ]
  },
  {
   "cell_type": "code",
   "execution_count": null,
   "metadata": {},
   "outputs": [],
   "source": [
    "%matplotlib notebook\n",
    "import numpy as np\n",
    "import matplotlib.pyplot as plt\n",
    "from ipywidgets import interactive, fixed\n",
    "from IPython.display import display\n",
    "\n",
    "def plotter(function, **kwargs):\n",
    "    img = function(**kwargs)\n",
    "    imshow.set_data(img)\n",
    "    fig.canvas.draw()\n",
    "\n",
    "def moire(exp):\n",
    "    return np.sin(d**exp)\n",
    "\n",
    "nx, ny = (600, 300)\n",
    "x = np.linspace(0, nx*np.pi/ny, nx)\n",
    "y = np.linspace(0, np.pi, ny)\n",
    "xv, yv = np.meshgrid(x, y)\n",
    "d = np.sqrt(xv**2+yv**2)\n",
    "\n",
    "fig, ax = plt.subplots(figsize=(9,6))\n",
    "imshow = plt.imshow(np.sin(d))\n",
    "plt.gray()\n",
    "interactive(plotter, function=fixed(moire), exp=(1,8,0.5))"
   ]
  },
  {
   "cell_type": "markdown",
   "metadata": {
    "deletable": false,
    "nbgrader": {
     "cell_type": "markdown",
     "checksum": "10cc76895cc8fa00cf0fb63bd24d9298",
     "grade": true,
     "grade_id": "cell-sampling-theorem-moire-answer",
     "locked": false,
     "points": 1,
     "schema_version": 3,
     "solution": true,
     "task": false
    }
   },
   "source": [
    "aliasing is simply the losing of information (frequency) while applying the sampling theory or the addition of more information (frequencies) which aren't in the original image and aren't needed which is called (Artifacts), they are also the overlaping between the copies of the original fourier transform of the delta function, as the previous image the addition of unnecessary information (frequencies) cause the formation of moire."
   ]
  },
  {
   "cell_type": "markdown",
   "metadata": {
    "deletable": false,
    "editable": false,
    "nbgrader": {
     "cell_type": "markdown",
     "checksum": "f73b7def017af3c1b28148d3a28d191e",
     "grade": false,
     "grade_id": "cell-sampling-theorem-pyramid",
     "locked": true,
     "schema_version": 3,
     "solution": false,
     "task": false
    }
   },
   "source": [
    "**d)** Gaussian pyramid: motivate the construction process of a Gaussian pyramid with the sampling theorem."
   ]
  },
  {
   "cell_type": "markdown",
   "metadata": {
    "deletable": false,
    "nbgrader": {
     "cell_type": "markdown",
     "checksum": "aac2fe39cf034c3e5c97fb35c58f51db",
     "grade": true,
     "grade_id": "cell-sampling-theorem-pyramid-answer",
     "locked": false,
     "points": 1,
     "schema_version": 3,
     "solution": true,
     "task": false
    }
   },
   "source": [
    "the aim of the Gaussian pyramid is to apply reduce operation for image pixels, so it's converting the continouse signal into discrete signal, but first we have to filter the image by using low pass filtering to remove the high frequencies to avoid the artifacts while applying the sampling theorm. pixels *1/16 = new pixel, pixels are Δx."
   ]
  },
  {
   "cell_type": "markdown",
   "metadata": {
    "deletable": false,
    "editable": false,
    "nbgrader": {
     "cell_type": "markdown",
     "checksum": "4494ea4ca854281595cc17c92a5424ba",
     "grade": false,
     "grade_id": "cell-433af82c3ad3533b",
     "locked": true,
     "schema_version": 3,
     "solution": false
    }
   },
   "source": [
    "## Assignment 3: Redundancy and compression (3 points)"
   ]
  },
  {
   "cell_type": "markdown",
   "metadata": {
    "deletable": false,
    "editable": false,
    "nbgrader": {
     "cell_type": "markdown",
     "checksum": "0c332f8b82de7fc36b569f896713fa9c",
     "grade": false,
     "grade_id": "cell-7d7b2b8f0c5697bf",
     "locked": true,
     "schema_version": 3,
     "solution": false
    }
   },
   "source": [
    "**a)** Explain in your own words the different types of redundancy mentioned on (CV-10 slide 3). How can you check for each of these types of redundancy?"
   ]
  },
  {
   "cell_type": "markdown",
   "metadata": {
    "deletable": false,
    "nbgrader": {
     "cell_type": "markdown",
     "checksum": "b2138c7277ac16dd72dd117d1aaa6e26",
     "grade": true,
     "grade_id": "cell-daa37d273c908041",
     "locked": false,
     "points": 2,
     "schema_version": 3,
     "solution": true
    },
    "solution": true
   },
   "source": [
    "1. coding redundancy:\n",
    "using more bits than necessary to code the gray values. we check that by calculating the probability of occurances of each gray value if it's low the we will simplified the code (less bits), by merging the least two likely symbols together into one node, we will continoue doing that until we have just two nodes with the highest frequency of occurance that's whtat we call 'Huffman coding'.\n",
    "2. interpixel redundancy:\n",
    "redundancy caused by the repetation of same gray or colored values of the neighbors pixels.we check that by checking the image line by line so if we found the neighbor pixels with same values we simplified it into the number and the value (number, value)\n",
    "3. psychovisual redundancy:\n",
    "expressing more information with more computational effort which are useless for my aim. we check that by comparing our data with our aim.\n"
   ]
  },
  {
   "cell_type": "markdown",
   "metadata": {
    "deletable": false,
    "editable": false,
    "nbgrader": {
     "cell_type": "markdown",
     "checksum": "654d62de956e3600482d89dba56efa3d",
     "grade": false,
     "grade_id": "cell-c09be7e5cf4f162a",
     "locked": true,
     "schema_version": 3,
     "solution": false
    }
   },
   "source": [
    "**b)** Explain the differences between lossless and lossy compression. Name examples for both of them. Sketch application scenarios."
   ]
  },
  {
   "cell_type": "markdown",
   "metadata": {
    "deletable": false,
    "nbgrader": {
     "cell_type": "markdown",
     "checksum": "d746e79f554c31b0c1f6f39607735ab8",
     "grade": true,
     "grade_id": "cell-12e5d17cb8da0bbb",
     "locked": false,
     "points": 2,
     "schema_version": 3,
     "solution": true
    },
    "solution": true
   },
   "source": [
    "1. lossless: \n",
    "a. decrease the size of the image (compression) without removing any information, so without affecting the quality of the image. b. the image can be restored to it's orignal form (the change isn't permenant).\n",
    "c. no image distortion\n",
    "d. the lossy reduce the size of the image more so we use lossless if we care more about the information and the quality of the image.\n",
    "e. most common format is PNG\n",
    "f. can be applied on medical images.\n",
    "\n",
    "2. lossy:\n",
    "a. decrease the size of the image (compression) by removing thr less critical information, which may cause the reduction of image quality.\n",
    "b. repetation of it on the same image will cause image distorition\n",
    "c. once the image change it can't turn back to it's original (permenant)\n",
    "d. decrease the size of the image more than lossless so it is used when the storage is more important than the image quality\n",
    "e. most common format is JPEG\n",
    "f. internet applications as what's app and facebook messager\n"
   ]
  },
  {
   "cell_type": "markdown",
   "metadata": {
    "deletable": false,
    "editable": false,
    "nbgrader": {
     "cell_type": "markdown",
     "checksum": "abedfd9a744e7bb4a61202a33ddffa24",
     "grade": false,
     "grade_id": "cell-b41e6675c5265cc7",
     "locked": true,
     "schema_version": 3,
     "solution": false
    }
   },
   "source": [
    "## Assignment 4: Entropy based compression (7 points)"
   ]
  },
  {
   "cell_type": "markdown",
   "metadata": {
    "deletable": false,
    "editable": false,
    "nbgrader": {
     "cell_type": "markdown",
     "checksum": "812f16d9f436d98a208fa99e8b6e0517",
     "grade": false,
     "grade_id": "cell-b873e13e731cb2d7",
     "locked": true,
     "schema_version": 3,
     "solution": false
    }
   },
   "source": [
    "**a)** Explain the idea of Huffman coding. What is the maximal compression factor that can be achieved for a given image? Load an image and compute that value (you may use `dolly.png` as an example. Make sure to load as 8-bit gray scale image)."
   ]
  },
  {
   "cell_type": "markdown",
   "metadata": {
    "deletable": false,
    "nbgrader": {
     "cell_type": "markdown",
     "checksum": "6a0851466cec44d43c5a9c84a7869a95",
     "grade": true,
     "grade_id": "cell-e01b9937463ce6ef",
     "locked": false,
     "points": 1,
     "schema_version": 3,
     "solution": true
    },
    "solution": true
   },
   "source": [
    "There are redundant parts in the image and we want to make image compress with this redundant parts. Huffman coding helps it by coding redundancy. Imagine if an image has only two grayvalue. In this case, the image needs only two grayvalue out of 256 grayvalues. We will use 1 bit instead of 1 byte. Using this principle, we can sort the grayvalues according to probability that image has the value. The most common value will get the least bit for image compression. From the maximal compression factor we can guess how we can compress the image."
   ]
  },
  {
   "cell_type": "code",
   "execution_count": 17,
   "metadata": {
    "deletable": false,
    "nbgrader": {
     "cell_type": "code",
     "checksum": "ffa6602a63c627a260782c4bab680db3",
     "grade": true,
     "grade_id": "cell-81cfc72a8e7f4516",
     "locked": false,
     "points": 1,
     "schema_version": 3,
     "solution": true
    }
   },
   "outputs": [
    {
     "name": "stdout",
     "output_type": "stream",
     "text": [
      "480000\n"
     ]
    },
    {
     "name": "stderr",
     "output_type": "stream",
     "text": [
      "C:\\Anaconda3\\lib\\site-packages\\ipykernel_launcher.py:10: RuntimeWarning: divide by zero encountered in log\n",
      "  # Remove the CWD from sys.path while we load stuff.\n",
      "C:\\Anaconda3\\lib\\site-packages\\ipykernel_launcher.py:10: RuntimeWarning: invalid value encountered in multiply\n",
      "  # Remove the CWD from sys.path while we load stuff.\n"
     ]
    },
    {
     "name": "stdout",
     "output_type": "stream",
     "text": [
      "5962.732919254659\n"
     ]
    }
   ],
   "source": [
    "import numpy as np\n",
    "import imageio as imageio\n",
    "import matplotlib.pyplot as plt\n",
    "\n",
    "img = imageio.imread('images/dolly.png', pilmode='L')\n",
    "#img = plt.imread('images/dolly.png')\n",
    "\n",
    "def entropy(img) :\n",
    "    for g1, g2 in np.ndindex(img.shape) :\n",
    "        en = np.sum(img[g1,g2] * np.log(img[g1,g2]))\n",
    "    return en\n",
    "        \n",
    "numofbit = img.shape[0] * img.shape[1]\n",
    "entropy = entropy(img)\n",
    "print(numofbit / entropy)"
   ]
  },
  {
   "cell_type": "markdown",
   "metadata": {
    "deletable": false,
    "editable": false,
    "nbgrader": {
     "cell_type": "markdown",
     "checksum": "3d05e8b2e0db92ff9033b6b45453a664",
     "grade": false,
     "grade_id": "cell-f199e258bf6cebb2",
     "locked": true,
     "schema_version": 3,
     "solution": false
    }
   },
   "source": [
    "**b)** Now compute the relative frequencies (normalized histogram) of the image and generate an (approximately) balanced tree, as described in (CV-10 slide 6). *Hint:* you may use Python tuples as building blocks of a tree. Every non-leaf node is a pair `(left, right)` where `left` and `right` are the left and right subtrees, respectively (of course you are free to choose another approach if you prefer to do so)."
   ]
  },
  {
   "cell_type": "code",
   "execution_count": 18,
   "metadata": {
    "deletable": false,
    "nbgrader": {
     "cell_type": "code",
     "checksum": "15fe28937bc6a34c84a69afd53f575ce",
     "grade": true,
     "grade_id": "cell-516481ae59437cd2d",
     "locked": false,
     "points": 2,
     "schema_version": 3,
     "solution": true
    }
   },
   "outputs": [
    {
     "ename": "NameError",
     "evalue": "name 'normed_hist_img' is not defined",
     "output_type": "error",
     "traceback": [
      "\u001b[1;31m---------------------------------------------------------------------------\u001b[0m",
      "\u001b[1;31mNameError\u001b[0m                                 Traceback (most recent call last)",
      "\u001b[1;32m<ipython-input-18-d6a483afe18a>\u001b[0m in \u001b[0;36m<module>\u001b[1;34m\u001b[0m\n\u001b[0;32m      9\u001b[0m \u001b[1;31m# lowest frequencies come first\u001b[0m\u001b[1;33m\u001b[0m\u001b[1;33m\u001b[0m\u001b[1;33m\u001b[0m\u001b[0m\n\u001b[0;32m     10\u001b[0m nodes = SortedList(\n\u001b[1;32m---> 11\u001b[1;33m     \u001b[1;33m[\u001b[0m\u001b[0mNode\u001b[0m\u001b[1;33m(\u001b[0m\u001b[0mfrequency\u001b[0m\u001b[1;33m,\u001b[0m \u001b[0mi\u001b[0m\u001b[1;33m)\u001b[0m \u001b[1;32mfor\u001b[0m \u001b[0mi\u001b[0m\u001b[1;33m,\u001b[0m \u001b[0mfrequency\u001b[0m \u001b[1;32min\u001b[0m \u001b[0menumerate\u001b[0m\u001b[1;33m(\u001b[0m\u001b[0mnormed_hist_img\u001b[0m\u001b[1;33m)\u001b[0m\u001b[1;33m]\u001b[0m\u001b[1;33m,\u001b[0m\u001b[1;33m\u001b[0m\u001b[1;33m\u001b[0m\u001b[0m\n\u001b[0m\u001b[0;32m     12\u001b[0m     key=lambda x: x.frequency)\n\u001b[0;32m     13\u001b[0m \u001b[1;33m\u001b[0m\u001b[0m\n",
      "\u001b[1;31mNameError\u001b[0m: name 'normed_hist_img' is not defined"
     ]
    }
   ],
   "source": [
    "from collections import namedtuple\n",
    "from sortedcontainers import SortedList  # conda install -c conda-forge sortedcontainers\n",
    "\n",
    "Node = namedtuple('Node', ['frequency', 'subtree'])\n",
    "\n",
    "img = imageio.imread('images/dolly.png', pilmode='L')\n",
    "# nodes is a sorted list of sub-trees, each annotated by its cummulative relative frequency,\n",
    "# i.e. each list item is a pair (frequency, subtree)\n",
    "# lowest frequencies come first\n",
    "nodes = SortedList(\n",
    "    [Node(frequency, i) for i, frequency in enumerate(normed_hist_img)],\n",
    "    key=lambda x: x.frequency)\n",
    "\n",
    "\n",
    "# YOUR CODE HERE\n",
    "print(tree)"
   ]
  },
  {
   "cell_type": "markdown",
   "metadata": {
    "deletable": false,
    "editable": false,
    "nbgrader": {
     "cell_type": "markdown",
     "checksum": "ea8a920cf219b1d7b4a61922ac98fd9a",
     "grade": false,
     "grade_id": "cell-f0017a3bfc8c198b",
     "locked": true,
     "schema_version": 3,
     "solution": false
    }
   },
   "source": [
    "**c)** Now create a prefix free code from this tree, by traversing it following the idea sketched in (CV-10 slide 7). *Hint:* if you used the tuple representation recommended in (b), you can use `isinstance(node, tuple)` to check if `node` is an inner node or a leaf."
   ]
  },
  {
   "cell_type": "code",
   "execution_count": null,
   "metadata": {
    "deletable": false,
    "nbgrader": {
     "cell_type": "code",
     "checksum": "54853116923fa344cd86726ad8f3669e",
     "grade": true,
     "grade_id": "cell-4c18bcf5c721980ba",
     "locked": false,
     "points": 1,
     "schema_version": 3,
     "solution": true
    }
   },
   "outputs": [],
   "source": [
    "# initialize a list of code values\n",
    "codes = list(normed_hist_img)\n",
    "\n",
    "# function to recursively traverse the tree.\n",
    "# For every inner node assign prefix \"0\" to the left subtree\n",
    "# and prefix \"1\" to the right subtree.\n",
    "def assign_codes(codes, tree, prefix=''):\n",
    "    # YOUR CODE HERE\n",
    "    raise NotImplementedError()\n",
    "\n",
    "assign_codes(codes, tree.subtree)\n",
    "print(codes)"
   ]
  },
  {
   "cell_type": "markdown",
   "metadata": {
    "deletable": false,
    "editable": false,
    "nbgrader": {
     "cell_type": "markdown",
     "checksum": "339b8d8e39dc366ab640174745f19dde",
     "grade": false,
     "grade_id": "cell-be6782bbc1933025",
     "locked": true,
     "schema_version": 3,
     "solution": false
    }
   },
   "source": [
    "**d)** Compute the compression ratio that you can achieve with that code. Compare this with the maximal value computed in part (a). Explain your observation."
   ]
  },
  {
   "cell_type": "code",
   "execution_count": null,
   "metadata": {
    "deletable": false,
    "nbgrader": {
     "cell_type": "code",
     "checksum": "71b0deddb7f6d4c3a6cb15d159ece3d3",
     "grade": true,
     "grade_id": "cell-ae3307c0f07aea91",
     "locked": false,
     "points": 2,
     "schema_version": 3,
     "solution": true
    }
   },
   "outputs": [],
   "source": [
    "acc = 0\n",
    "for value, code in enumerate(codes):\n",
    "    # YOUR CODE HERE\n",
    "    raise NotImplementedError()\n",
    "\n",
    "print(\"{:.2f} bits per pixel\".format(acc))"
   ]
  },
  {
   "cell_type": "markdown",
   "metadata": {
    "deletable": false,
    "nbgrader": {
     "cell_type": "markdown",
     "checksum": "4497d781a6fb943645b406bf0d6998bd",
     "grade": true,
     "grade_id": "cell-67f20617995a24ff",
     "locked": false,
     "points": 1,
     "schema_version": 3,
     "solution": true
    },
    "solution": true
   },
   "source": [
    "YOUR ANSWER HERE"
   ]
  }
 ],
 "metadata": {
  "hide_input": false,
  "kernelspec": {
   "display_name": "Python 3",
   "language": "python",
   "name": "python3"
  },
  "language_info": {
   "codemirror_mode": {
    "name": "ipython",
    "version": 3
   },
   "file_extension": ".py",
   "mimetype": "text/x-python",
   "name": "python",
   "nbconvert_exporter": "python",
   "pygments_lexer": "ipython3",
   "version": "3.7.6"
  },
  "toc": {
   "base_numbering": 1,
   "nav_menu": {},
   "number_sections": true,
   "sideBar": true,
   "skip_h1_title": false,
   "title_cell": "Table of Contents",
   "title_sidebar": "Contents",
   "toc_cell": false,
   "toc_position": {},
   "toc_section_display": true,
   "toc_window_display": false
  }
 },
 "nbformat": 4,
 "nbformat_minor": 5
}
